{
 "cells": [
  {
   "cell_type": "markdown",
   "metadata": {
    "nbgrader": {
     "grade": false,
     "grade_id": "cell-fc1c39d0d6f8b82a",
     "locked": true,
     "schema_version": 1,
     "solution": false
    }
   },
   "source": [
    "# Week 13 Programming Assignment\n",
    "\n",
    "The final thing for this semester that we haven't exercised, yet, is working with databases and combining data from multiple different sources.  In this last assignment of the semester before the final project, we'll be combining data from the internet, an existing database, and some local files on our Jupyter server.\n",
    "\n",
    "**Please be careful to make sure that any code creating database tables has your username in the table name so that they don't conflict with other students.  The database is a shared environment.**\n",
    "\n",
    "This example works with the hospital price transparency data that we've looked at in class from time to time.  For this work, we're going to compare data from two different facilities after it's been merged with another reference data set.\n",
    "\n",
    "Follow the instructions below, writing and testing your code using the assert statements.  Then submit your assignment as usual."
   ]
  },
  {
   "cell_type": "markdown",
   "metadata": {},
   "source": [
    "## 1. Getting data from a relational database\n",
    "\n",
    "In our database, there is a table called `fiverivers` that contains price transparency data for the St. Bernhard's Five Rivers hospital location.  Write code to retrieve that data from the database and load it to a Pandas dataframe.\n",
    "\n",
    "I'll give you the code you need to connect to the database to make the first step easier."
   ]
  },
  {
   "cell_type": "code",
   "execution_count": 2,
   "metadata": {},
   "outputs": [],
   "source": [
    "import os\n",
    "from sqlalchemy import create_engine\n",
    "import pandas as pd\n",
    "\n",
    "host = 'slucor2021b.cgdcoitnku0k.us-east-1.rds.amazonaws.com'\n",
    "port = '3306'\n",
    "user = 'slucor2020'\n",
    "password = 'SLUcor2020'\n",
    "database = 'hds5210'\n",
    "\n",
    "conn = create_engine('mysql+pymysql://' + \n",
    "                     user + ':' + \n",
    "                     password + '@' + \n",
    "                     host + ':' + \n",
    "                     str(port) + '/' + \n",
    "                     database)"
   ]
  },
  {
   "cell_type": "markdown",
   "metadata": {},
   "source": [
    "### 1.1\n",
    "\n",
    "Now, write the code you need to select everything from the `fiverivers` table.  Query those results into a Pandas dataframe called `fiverivers_df`."
   ]
  },
  {
   "cell_type": "code",
   "execution_count": 3,
   "metadata": {},
   "outputs": [],
   "source": [
    "fiverivers = pd.read_sql('select * from fiverivers',conn)"
   ]
  },
  {
   "cell_type": "markdown",
   "metadata": {},
   "source": [
    "### 1.2\n",
    "\n",
    "Demonstrate what your `fiverivers` dataframe has been printing the first few rows to the page here."
   ]
  },
  {
   "cell_type": "code",
   "execution_count": 4,
   "metadata": {},
   "outputs": [
    {
     "data": {
      "text/html": [
       "<div>\n",
       "<style scoped>\n",
       "    .dataframe tbody tr th:only-of-type {\n",
       "        vertical-align: middle;\n",
       "    }\n",
       "\n",
       "    .dataframe tbody tr th {\n",
       "        vertical-align: top;\n",
       "    }\n",
       "\n",
       "    .dataframe thead th {\n",
       "        text-align: right;\n",
       "    }\n",
       "</style>\n",
       "<table border=\"1\" class=\"dataframe\">\n",
       "  <thead>\n",
       "    <tr style=\"text-align: right;\">\n",
       "      <th></th>\n",
       "      <th>source</th>\n",
       "      <th>hospital_system</th>\n",
       "      <th>hospital</th>\n",
       "      <th>hospital_npi</th>\n",
       "      <th>hospital_ein</th>\n",
       "      <th>medicare_facility_id</th>\n",
       "      <th>raw_plan</th>\n",
       "      <th>payer</th>\n",
       "      <th>payer_plan</th>\n",
       "      <th>item_id</th>\n",
       "      <th>...</th>\n",
       "      <th>item_description</th>\n",
       "      <th>rev_code</th>\n",
       "      <th>ms_drg</th>\n",
       "      <th>cpt_hcpcs</th>\n",
       "      <th>med_ndc</th>\n",
       "      <th>med_qty</th>\n",
       "      <th>med_units</th>\n",
       "      <th>setting</th>\n",
       "      <th>charged_amt</th>\n",
       "      <th>allowed_amt</th>\n",
       "    </tr>\n",
       "  </thead>\n",
       "  <tbody>\n",
       "    <tr>\n",
       "      <th>0</th>\n",
       "      <td>FIVERIVERS</td>\n",
       "      <td>St. Bernards Healthcare</td>\n",
       "      <td>Five Rivers Medical Center</td>\n",
       "      <td>1528360989</td>\n",
       "      <td>273970823</td>\n",
       "      <td>40047</td>\n",
       "      <td>BLUE ADVANTAGE PPO</td>\n",
       "      <td>ABCBS</td>\n",
       "      <td>Blue Advantage PPO</td>\n",
       "      <td>162014722-G0008</td>\n",
       "      <td>...</td>\n",
       "      <td>Administration Of Vaccine</td>\n",
       "      <td>None</td>\n",
       "      <td>None</td>\n",
       "      <td>G0008</td>\n",
       "      <td>None</td>\n",
       "      <td>None</td>\n",
       "      <td>None</td>\n",
       "      <td>OP</td>\n",
       "      <td>163.38</td>\n",
       "      <td>197.52</td>\n",
       "    </tr>\n",
       "    <tr>\n",
       "      <th>1</th>\n",
       "      <td>FIVERIVERS</td>\n",
       "      <td>St. Bernards Healthcare</td>\n",
       "      <td>Five Rivers Medical Center</td>\n",
       "      <td>1528360989</td>\n",
       "      <td>273970823</td>\n",
       "      <td>40047</td>\n",
       "      <td>BLUE ADVANTAGE PPO</td>\n",
       "      <td>ABCBS</td>\n",
       "      <td>Blue Advantage PPO</td>\n",
       "      <td>162014722-90471</td>\n",
       "      <td>...</td>\n",
       "      <td>Administration Of Vaccine</td>\n",
       "      <td>None</td>\n",
       "      <td>None</td>\n",
       "      <td>90471</td>\n",
       "      <td>None</td>\n",
       "      <td>None</td>\n",
       "      <td>None</td>\n",
       "      <td>OP</td>\n",
       "      <td>163.38</td>\n",
       "      <td>197.52</td>\n",
       "    </tr>\n",
       "    <tr>\n",
       "      <th>2</th>\n",
       "      <td>FIVERIVERS</td>\n",
       "      <td>St. Bernards Healthcare</td>\n",
       "      <td>Five Rivers Medical Center</td>\n",
       "      <td>1528360989</td>\n",
       "      <td>273970823</td>\n",
       "      <td>40047</td>\n",
       "      <td>UNITED HEALTHCARE MEDICARE ADVANTAGE</td>\n",
       "      <td>United Healthcare</td>\n",
       "      <td>Medicare Advantage</td>\n",
       "      <td>162014731-G0008</td>\n",
       "      <td>...</td>\n",
       "      <td>Administration Of Vaccine</td>\n",
       "      <td>None</td>\n",
       "      <td>None</td>\n",
       "      <td>G0008</td>\n",
       "      <td>None</td>\n",
       "      <td>None</td>\n",
       "      <td>None</td>\n",
       "      <td>OP</td>\n",
       "      <td>163.38</td>\n",
       "      <td>22.03</td>\n",
       "    </tr>\n",
       "    <tr>\n",
       "      <th>3</th>\n",
       "      <td>FIVERIVERS</td>\n",
       "      <td>St. Bernards Healthcare</td>\n",
       "      <td>Five Rivers Medical Center</td>\n",
       "      <td>1528360989</td>\n",
       "      <td>273970823</td>\n",
       "      <td>40047</td>\n",
       "      <td>UNITED HEALTHCARE MEDICARE ADVANTAGE</td>\n",
       "      <td>United Healthcare</td>\n",
       "      <td>Medicare Advantage</td>\n",
       "      <td>162014731-90471</td>\n",
       "      <td>...</td>\n",
       "      <td>Administration Of Vaccine</td>\n",
       "      <td>None</td>\n",
       "      <td>None</td>\n",
       "      <td>90471</td>\n",
       "      <td>None</td>\n",
       "      <td>None</td>\n",
       "      <td>None</td>\n",
       "      <td>OP</td>\n",
       "      <td>163.38</td>\n",
       "      <td>22.03</td>\n",
       "    </tr>\n",
       "    <tr>\n",
       "      <th>4</th>\n",
       "      <td>FIVERIVERS</td>\n",
       "      <td>St. Bernards Healthcare</td>\n",
       "      <td>Five Rivers Medical Center</td>\n",
       "      <td>1528360989</td>\n",
       "      <td>273970823</td>\n",
       "      <td>40047</td>\n",
       "      <td>CIGNA COMMERCIAL</td>\n",
       "      <td>Cigna</td>\n",
       "      <td>Commercial</td>\n",
       "      <td>162014727-G0008</td>\n",
       "      <td>...</td>\n",
       "      <td>Administration Of Vaccine</td>\n",
       "      <td>None</td>\n",
       "      <td>None</td>\n",
       "      <td>G0008</td>\n",
       "      <td>None</td>\n",
       "      <td>None</td>\n",
       "      <td>None</td>\n",
       "      <td>OP</td>\n",
       "      <td>163.38</td>\n",
       "      <td>56.68</td>\n",
       "    </tr>\n",
       "  </tbody>\n",
       "</table>\n",
       "<p>5 rows × 21 columns</p>\n",
       "</div>"
      ],
      "text/plain": [
       "       source          hospital_system                    hospital  \\\n",
       "0  FIVERIVERS  St. Bernards Healthcare  Five Rivers Medical Center   \n",
       "1  FIVERIVERS  St. Bernards Healthcare  Five Rivers Medical Center   \n",
       "2  FIVERIVERS  St. Bernards Healthcare  Five Rivers Medical Center   \n",
       "3  FIVERIVERS  St. Bernards Healthcare  Five Rivers Medical Center   \n",
       "4  FIVERIVERS  St. Bernards Healthcare  Five Rivers Medical Center   \n",
       "\n",
       "   hospital_npi  hospital_ein  medicare_facility_id  \\\n",
       "0    1528360989     273970823                 40047   \n",
       "1    1528360989     273970823                 40047   \n",
       "2    1528360989     273970823                 40047   \n",
       "3    1528360989     273970823                 40047   \n",
       "4    1528360989     273970823                 40047   \n",
       "\n",
       "                               raw_plan              payer  \\\n",
       "0                    BLUE ADVANTAGE PPO              ABCBS   \n",
       "1                    BLUE ADVANTAGE PPO              ABCBS   \n",
       "2  UNITED HEALTHCARE MEDICARE ADVANTAGE  United Healthcare   \n",
       "3  UNITED HEALTHCARE MEDICARE ADVANTAGE  United Healthcare   \n",
       "4                      CIGNA COMMERCIAL              Cigna   \n",
       "\n",
       "           payer_plan          item_id  ...           item_description  \\\n",
       "0  Blue Advantage PPO  162014722-G0008  ...  Administration Of Vaccine   \n",
       "1  Blue Advantage PPO  162014722-90471  ...  Administration Of Vaccine   \n",
       "2  Medicare Advantage  162014731-G0008  ...  Administration Of Vaccine   \n",
       "3  Medicare Advantage  162014731-90471  ...  Administration Of Vaccine   \n",
       "4          Commercial  162014727-G0008  ...  Administration Of Vaccine   \n",
       "\n",
       "  rev_code ms_drg cpt_hcpcs med_ndc med_qty med_units setting charged_amt  \\\n",
       "0     None   None     G0008    None    None      None      OP      163.38   \n",
       "1     None   None     90471    None    None      None      OP      163.38   \n",
       "2     None   None     G0008    None    None      None      OP      163.38   \n",
       "3     None   None     90471    None    None      None      OP      163.38   \n",
       "4     None   None     G0008    None    None      None      OP      163.38   \n",
       "\n",
       "   allowed_amt  \n",
       "0       197.52  \n",
       "1       197.52  \n",
       "2        22.03  \n",
       "3        22.03  \n",
       "4        56.68  \n",
       "\n",
       "[5 rows x 21 columns]"
      ]
     },
     "execution_count": 4,
     "metadata": {},
     "output_type": "execute_result"
    }
   ],
   "source": [
    "fiverivers.head()"
   ]
  },
  {
   "cell_type": "markdown",
   "metadata": {},
   "source": [
    "### 1.3\n",
    "\n",
    "How many total rows and columns does that database table have?"
   ]
  },
  {
   "cell_type": "code",
   "execution_count": 5,
   "metadata": {},
   "outputs": [
    {
     "data": {
      "text/plain": [
       "(3376, 21)"
      ]
     },
     "execution_count": 5,
     "metadata": {},
     "output_type": "execute_result"
    }
   ],
   "source": [
    "fiverivers.shape"
   ]
  },
  {
   "cell_type": "markdown",
   "metadata": {},
   "source": [
    "### 1.4\n",
    "\n",
    "How many rows does it have where the `payer` is `ABCBS`?"
   ]
  },
  {
   "cell_type": "code",
   "execution_count": 6,
   "metadata": {},
   "outputs": [
    {
     "data": {
      "text/plain": [
       "529"
      ]
     },
     "execution_count": 6,
     "metadata": {},
     "output_type": "execute_result"
    }
   ],
   "source": [
    "sum(fiverivers['payer'] == 'ABCBS')"
   ]
  },
  {
   "cell_type": "markdown",
   "metadata": {},
   "source": [
    "## 2. Reading JSON data\n",
    "\n",
    "We also want to get data for St. Bernards Medical Center, but that data is only in a JSON file format.  You can find it in your data directory or read it from `/data/sbmc_raw.json`.  Load that data using Pandas and answer the questions below.  You do not need to load this file into Pandas."
   ]
  },
  {
   "cell_type": "code",
   "execution_count": 7,
   "metadata": {},
   "outputs": [],
   "source": [
    "import json\n",
    "\n",
    "with open('/data/sbmc_raw.json') as f:\n",
    "    sbmc = json.load(f)"
   ]
  },
  {
   "cell_type": "markdown",
   "metadata": {},
   "source": [
    "### 2.1\n",
    "\n",
    "How many rows are there in this data?"
   ]
  },
  {
   "cell_type": "code",
   "execution_count": 8,
   "metadata": {},
   "outputs": [
    {
     "data": {
      "text/plain": [
       "3635"
      ]
     },
     "execution_count": 8,
     "metadata": {},
     "output_type": "execute_result"
    }
   ],
   "source": [
    "len(sbmc)"
   ]
  },
  {
   "cell_type": "markdown",
   "metadata": {},
   "source": [
    "### 2.2\n",
    "\n",
    "Take a peak at the first item in the JSON list."
   ]
  },
  {
   "cell_type": "code",
   "execution_count": 9,
   "metadata": {},
   "outputs": [
    {
     "data": {
      "text/plain": [
       "{'id': 162045918,\n",
       " 'keyStr_Associated_Codes': '\\tG0008,G0009,90471',\n",
       " 'num_Avg_Gross_Charge': 238.74,\n",
       " 'num_Cash_Discount': 155.18,\n",
       " 'num_DeIdentified_Max_Allowed': 348.23,\n",
       " 'num_Deidentified_Min_Allowed': 17.48,\n",
       " 'keyStr_description': 'Administration Of Vaccine',\n",
       " 'keyStr_iobSelection': 'Outpatient',\n",
       " 'str_nonperformed': '0',\n",
       " 'str_payer': 'UNITED HEALTHCARE MEDICARE ADVANTAGE',\n",
       " 'num_Payer_Allowed_Amount': 40.83,\n",
       " 'num_payerId': '33'}"
      ]
     },
     "execution_count": 9,
     "metadata": {},
     "output_type": "execute_result"
    }
   ],
   "source": [
    "sbmc[0]"
   ]
  },
  {
   "cell_type": "markdown",
   "metadata": {},
   "source": [
    "### 2.3\n",
    "\n",
    "You'll notice a field called `str_payer`.  How many unique values are there in that field and what are they?"
   ]
  },
  {
   "cell_type": "code",
   "execution_count": 10,
   "metadata": {},
   "outputs": [],
   "source": [
    "payers = set([x['str_payer'] for x in sbmc])"
   ]
  },
  {
   "cell_type": "code",
   "execution_count": 11,
   "metadata": {},
   "outputs": [
    {
     "data": {
      "text/plain": [
       "35"
      ]
     },
     "execution_count": 11,
     "metadata": {},
     "output_type": "execute_result"
    }
   ],
   "source": [
    "len(payers)"
   ]
  },
  {
   "cell_type": "code",
   "execution_count": 12,
   "metadata": {},
   "outputs": [
    {
     "data": {
      "text/plain": [
       "{'ADMINISTRATIVE CONCEPTS PPO',\n",
       " 'AETNA COMMERCIAL',\n",
       " 'AETNA HMO',\n",
       " 'AETNA MEDICARE ADVANTAGE',\n",
       " 'AETNA PPO',\n",
       " 'ALLEGIANCE BENEFIT PLAN MANAGEMENT COMMERCIAL',\n",
       " 'ALLIED BENEFIT SYSTEM COMMERCIAL',\n",
       " 'ALLWELL COMMERCIAL',\n",
       " 'ALLWELL MANAGED MEDICAID',\n",
       " 'ALLWELL MEDICARE ADVANTAGE',\n",
       " 'AMBETTER COMMERCIAL',\n",
       " 'AMBETTER MANAGED MEDICAID',\n",
       " 'AMBETTER MEDICARE ADVANTAGE',\n",
       " 'BENEFIT ADMINISTRATIVE SYSTEMS COMMERCIAL',\n",
       " 'BENESYS, INC. COMMERCIAL',\n",
       " 'BLUE ADVANTAGE PPO',\n",
       " 'BLUECROSS BLUESHIELD COMMERCIAL',\n",
       " 'BLUECROSS BLUESHIELD MEDICARE ADVANTAGE',\n",
       " 'CIGNA COMMERCIAL',\n",
       " 'CONNECTICUT GENERAL LIFE INSURANCE COMPANY COMMERCIAL',\n",
       " 'HARMONY HEALTH PLAN MEDICARE ADVANTAGE',\n",
       " 'HEALTH ADVANTAGE MEDICARE ADVANTAGE',\n",
       " 'HUMANA MEDICARE ADVANTAGE',\n",
       " 'MEDPAY COMMERCIAL',\n",
       " 'MERITAIN HEALTH COMMERCIAL',\n",
       " 'MUNICIPAL COMMERCIAL',\n",
       " 'PLANNED ADMINISTRATORS INC COMMERCIAL',\n",
       " 'QUALCHOICE COMMERCIAL',\n",
       " 'TRUSTMARK HEALTH BENEFITS COMMERCIAL',\n",
       " 'Trustmark Health Benefits COMMERCIAL',\n",
       " 'UMR COMMERCIAL',\n",
       " 'UMR Preferred Provider Organization (PPO)',\n",
       " 'UNITED HEALTHCARE COMMERCIAL',\n",
       " 'UNITED HEALTHCARE MEDICARE ADVANTAGE',\n",
       " 'WELLFLEET COMMERCIAL'}"
      ]
     },
     "execution_count": 12,
     "metadata": {},
     "output_type": "execute_result"
    }
   ],
   "source": [
    "payers"
   ]
  },
  {
   "cell_type": "markdown",
   "metadata": {},
   "source": [
    "## 3. Reading more JSON!\n",
    "\n",
    "The problem with combining these two data sets is that they aren't the same format and (what's worse!!) some of the data internally that should be standardized (e.g. payer and payer plan) is not standardized.\n",
    "\n",
    "We've build a \"mapping\" file that translates payer names from the `sbmc.json` data file into a common set of names.  This other JSON file is called `payer_plan_sbmc.json`. "
   ]
  },
  {
   "cell_type": "markdown",
   "metadata": {},
   "source": [
    "### 3.1\n",
    "\n",
    "Load it into a Python object to take a look at it."
   ]
  },
  {
   "cell_type": "code",
   "execution_count": 13,
   "metadata": {},
   "outputs": [],
   "source": [
    "with open('/data/payer_plans_sbmc.json') as f:\n",
    "    mapper = json.load(f)"
   ]
  },
  {
   "cell_type": "code",
   "execution_count": 14,
   "metadata": {},
   "outputs": [
    {
     "data": {
      "text/plain": [
       "{'ADMINISTRATIVE CONCEPTS PPO': {'payer': 'Administrative Concepts',\n",
       "  'payer_plan': 'PPO'},\n",
       " 'AETNA COMMERCIAL': {'payer': 'Aetna', 'payer_plan': 'Commercial'},\n",
       " 'AETNA HMO': {'payer': 'Aetna', 'payer_plan': 'HMO'},\n",
       " 'AETNA MEDICARE ADVANTAGE': {'payer': 'Aetna',\n",
       "  'payer_plan': 'Medicare Advantage'},\n",
       " 'AETNA PPO': {'payer': 'Aetna', 'payer_plan': 'PPO'},\n",
       " 'ALLEGIANCE BENEFIT PLAN MANAGEMENT COMMERCIAL': {'payer': 'Allegiance Benefit Plan Management',\n",
       "  'payer_plan': 'Commercial'},\n",
       " 'ALLIED BENEFIT SYSTEM COMMERCIAL': {'payer': 'Allied Benefit System',\n",
       "  'payer_plan': 'Commercial'},\n",
       " 'ALLWELL COMMERCIAL': {'payer': 'Allwell', 'payer_plan': 'Commercial'},\n",
       " 'ALLWELL MANAGED MEDICAID': {'payer': 'Allwell',\n",
       "  'payer_plan': 'Managed Medicaid'},\n",
       " 'ALLWELL MEDICARE ADVANTAGE': {'payer': 'Allwell',\n",
       "  'payer_plan': 'Medicare Advantage'},\n",
       " 'AMBETTER COMMERCIAL': {'payer': 'Ambetter', 'payer_plan': 'Commercial'},\n",
       " 'AMBETTER MANAGED MEDICAID': {'payer': 'Ambetter',\n",
       "  'payer_plan': 'Managed Medicaid'},\n",
       " 'AMBETTER MEDICARE ADVANTAGE': {'payer': 'Ambetter',\n",
       "  'payer_plan': 'Medicare Advantage'},\n",
       " 'BENEFIT ADMINISTRATIVE SYSTEMS COMMERCIAL': {'payer': 'Benefit Administrative Systems',\n",
       "  'payer_plan': 'Commercial'},\n",
       " 'BENESYS, INC. COMMERCIAL': {'payer': 'Benesys Inc.',\n",
       "  'payer_plan': 'Commercial'},\n",
       " 'BLUE ADVANTAGE PPO': {'payer': 'ABCBS', 'payer_plan': 'Blue Advantage PPO'},\n",
       " 'BLUECROSS BLUESHIELD COMMERCIAL': {'payer': 'ABCBS',\n",
       "  'payer_plan': 'Commercial'},\n",
       " 'BLUECROSS BLUESHIELD MEDICARE ADVANTAGE': {'payer': 'ABCBS',\n",
       "  'payer_plan': 'Medicare Advantage'},\n",
       " 'CIGNA COMMERCIAL': {'payer': 'Cigna', 'payer_plan': 'Commercial'},\n",
       " 'CONNECTICUT GENERAL LIFE INSURANCE COMPANY COMMERCIAL': {'payer': 'Connecticut General Life Insurance Co.',\n",
       "  'payer_plan': 'Commercial'},\n",
       " 'HARMONY HEALTH PLAN MEDICARE ADVANTAGE': {'payer': 'Harmonay Health Plan',\n",
       "  'payer_plan': 'Medicare Advantage'},\n",
       " 'HEALTH ADVANTAGE MEDICARE ADVANTAGE': {'payer': 'Health Advantage',\n",
       "  'payer_plan': 'Medicare Advantage'},\n",
       " 'HUMANA MEDICARE ADVANTAGE': {'payer': 'Humana',\n",
       "  'payer_plan': 'Medicare Advantage'},\n",
       " 'MEDPAY COMMERCIAL': {'payer': 'Medpay', 'payer_plan': 'Commercial'},\n",
       " 'MERITAIN HEALTH COMMERCIAL': {'payer': 'Meritain Health',\n",
       "  'payer_plan': 'Commercial'},\n",
       " 'MUNICIPAL COMMERCIAL': {'payer': 'Municipal', 'payer_plan': 'Commercial'},\n",
       " 'num_Cash_Discount': {'payer': 'Unspecified', 'payer_plan': 'Cash'},\n",
       " 'PLANNED ADMINISTRATORS INC COMMERCIAL': {'payer': 'Planned Administrators Inc',\n",
       "  'payer_plan': 'Commercial'},\n",
       " 'QUALCHOICE COMMERCIAL': {'payer': 'Qualchoice', 'payer_plan': 'Commercial'},\n",
       " 'TRUSTMARK HEALTH BENEFITS COMMERCIAL': {'payer': 'Trustmark Health Benefits',\n",
       "  'payer_plan': 'Commercial'},\n",
       " 'Trustmark Health Benefits COMMERCIAL': {'payer': 'Trustmark Health Benefits',\n",
       "  'payer_plan': 'Commercial'},\n",
       " 'UMR COMMERCIAL': {'payer': 'UMR', 'payer_plan': 'Commercial'},\n",
       " 'UMR Preferred Provider Organization (PPO)': {'payer': 'UMR',\n",
       "  'payer_plan': 'PPO'},\n",
       " 'UNITED HEALTHCARE COMMERCIAL': {'payer': 'United Healthcare',\n",
       "  'payer_plan': 'Commercial'},\n",
       " 'UNITED HEALTHCARE MEDICARE ADVANTAGE': {'payer': 'United Healthcare',\n",
       "  'payer_plan': 'Medicare Advantage'},\n",
       " 'WELLFLEET COMMERCIAL': {'payer': 'Wellfleet', 'payer_plan': 'Commercial'}}"
      ]
     },
     "execution_count": 14,
     "metadata": {},
     "output_type": "execute_result"
    }
   ],
   "source": [
    "mapper"
   ]
  },
  {
   "cell_type": "markdown",
   "metadata": {},
   "source": [
    "### 3.2\n",
    "\n",
    "How many unique values are there in this list?"
   ]
  },
  {
   "cell_type": "code",
   "execution_count": 15,
   "metadata": {},
   "outputs": [
    {
     "data": {
      "text/plain": [
       "36"
      ]
     },
     "execution_count": 15,
     "metadata": {},
     "output_type": "execute_result"
    }
   ],
   "source": [
    "len(mapper)"
   ]
  },
  {
   "cell_type": "markdown",
   "metadata": {},
   "source": [
    "## 4. Combine!"
   ]
  },
  {
   "cell_type": "markdown",
   "metadata": {},
   "source": [
    "### 4.1\n",
    "\n",
    "The first thing we want to do is combine the two JSON documents so that we can have our \"clean\" payer and plan information in the same list and data structure as the SBMC data.  From there, we'll able to aggregate data in common ways and compare the numbers.\n",
    "\n",
    "In this step, combine the two JSON documents so that the output has one item for every item in the sbmc input file, find the matching payer name in the payer_plan_sbmc.json data, and add two new entries to the dictionaries in your `sbmc` list: `payer` and `payer_plan`.  The assert should help you see what the updated structure should look like."
   ]
  },
  {
   "cell_type": "code",
   "execution_count": 18,
   "metadata": {},
   "outputs": [],
   "source": [
    "for item in sbmc:\n",
    "    str_payer = item.get('str_payer')\n",
    "    payer = mapper.get(str_payer).get('payer')\n",
    "    plan = mapper.get(str_payer).get('payer_plan') \n",
    "    item['payer'] = payer\n",
    "    item['payer_plan'] = plan    "
   ]
  },
  {
   "cell_type": "code",
   "execution_count": 19,
   "metadata": {},
   "outputs": [],
   "source": [
    "assert sbmc[0] == {'id': 162045918,\n",
    " 'keyStr_Associated_Codes': '\\tG0008,G0009,90471',\n",
    " 'num_Avg_Gross_Charge': 238.74,\n",
    " 'num_Cash_Discount': 155.18,\n",
    " 'num_DeIdentified_Max_Allowed': 348.23,\n",
    " 'num_Deidentified_Min_Allowed': 17.48,\n",
    " 'keyStr_description': 'Administration Of Vaccine',\n",
    " 'keyStr_iobSelection': 'Outpatient',\n",
    " 'str_nonperformed': '0',\n",
    " 'str_payer': 'UNITED HEALTHCARE MEDICARE ADVANTAGE',\n",
    " 'num_Payer_Allowed_Amount': 40.83,\n",
    " 'num_payerId': '33',\n",
    " 'payer': 'United Healthcare',\n",
    " 'payer_plan': 'Medicare Advantage'}"
   ]
  },
  {
   "cell_type": "markdown",
   "metadata": {},
   "source": [
    "### 4.2\n",
    "\n",
    "Inspect the first item in your list to make sure it now has `payer` and `payer_plan` entries in it."
   ]
  },
  {
   "cell_type": "code",
   "execution_count": 39,
   "metadata": {},
   "outputs": [
    {
     "data": {
      "text/plain": [
       "{'id': 162045918,\n",
       " 'keyStr_Associated_Codes': '\\tG0008,G0009,90471',\n",
       " 'num_Avg_Gross_Charge': 238.74,\n",
       " 'num_Cash_Discount': 155.18,\n",
       " 'num_DeIdentified_Max_Allowed': 348.23,\n",
       " 'num_Deidentified_Min_Allowed': 17.48,\n",
       " 'keyStr_description': 'Administration Of Vaccine',\n",
       " 'keyStr_iobSelection': 'Outpatient',\n",
       " 'str_nonperformed': '0',\n",
       " 'str_payer': 'UNITED HEALTHCARE MEDICARE ADVANTAGE',\n",
       " 'num_Payer_Allowed_Amount': 40.83,\n",
       " 'num_payerId': '33',\n",
       " 'payer': 'United Healthcare',\n",
       " 'payer_plan': 'Medicare Advantage'}"
      ]
     },
     "execution_count": 39,
     "metadata": {},
     "output_type": "execute_result"
    }
   ],
   "source": [
    "sbmc[0]"
   ]
  },
  {
   "cell_type": "markdown",
   "metadata": {},
   "source": [
    "### 4.3\n",
    "\n",
    "Now you should take the time to convert you JSON into a Pandas dataframe.  Assuming your JSON looks like the sample below, Pandas can do it automatically with `df = pd.DataFrame(your_data)`"
   ]
  },
  {
   "cell_type": "code",
   "execution_count": 21,
   "metadata": {},
   "outputs": [],
   "source": [
    "df = pd.DataFrame(sbmc)"
   ]
  },
  {
   "cell_type": "code",
   "execution_count": 22,
   "metadata": {},
   "outputs": [
    {
     "data": {
      "text/html": [
       "<div>\n",
       "<style scoped>\n",
       "    .dataframe tbody tr th:only-of-type {\n",
       "        vertical-align: middle;\n",
       "    }\n",
       "\n",
       "    .dataframe tbody tr th {\n",
       "        vertical-align: top;\n",
       "    }\n",
       "\n",
       "    .dataframe thead th {\n",
       "        text-align: right;\n",
       "    }\n",
       "</style>\n",
       "<table border=\"1\" class=\"dataframe\">\n",
       "  <thead>\n",
       "    <tr style=\"text-align: right;\">\n",
       "      <th></th>\n",
       "      <th>id</th>\n",
       "      <th>keyStr_Associated_Codes</th>\n",
       "      <th>num_Avg_Gross_Charge</th>\n",
       "      <th>num_Cash_Discount</th>\n",
       "      <th>num_DeIdentified_Max_Allowed</th>\n",
       "      <th>num_Deidentified_Min_Allowed</th>\n",
       "      <th>keyStr_description</th>\n",
       "      <th>keyStr_iobSelection</th>\n",
       "      <th>str_nonperformed</th>\n",
       "      <th>str_payer</th>\n",
       "      <th>num_Payer_Allowed_Amount</th>\n",
       "      <th>num_payerId</th>\n",
       "      <th>payer</th>\n",
       "      <th>payer_plan</th>\n",
       "    </tr>\n",
       "  </thead>\n",
       "  <tbody>\n",
       "    <tr>\n",
       "      <th>0</th>\n",
       "      <td>162045918</td>\n",
       "      <td>\\tG0008,G0009,90471</td>\n",
       "      <td>238.74</td>\n",
       "      <td>155.18</td>\n",
       "      <td>348.23</td>\n",
       "      <td>17.48</td>\n",
       "      <td>Administration Of Vaccine</td>\n",
       "      <td>Outpatient</td>\n",
       "      <td>0</td>\n",
       "      <td>UNITED HEALTHCARE MEDICARE ADVANTAGE</td>\n",
       "      <td>40.83</td>\n",
       "      <td>33</td>\n",
       "      <td>United Healthcare</td>\n",
       "      <td>Medicare Advantage</td>\n",
       "    </tr>\n",
       "    <tr>\n",
       "      <th>1</th>\n",
       "      <td>162063116</td>\n",
       "      <td>\\tG0008,G0009,90471</td>\n",
       "      <td>238.74</td>\n",
       "      <td>155.18</td>\n",
       "      <td>348.23</td>\n",
       "      <td>17.48</td>\n",
       "      <td>Administration Of Vaccine</td>\n",
       "      <td>Outpatient</td>\n",
       "      <td>0</td>\n",
       "      <td>UNITED HEALTHCARE COMMERCIAL</td>\n",
       "      <td>103.95</td>\n",
       "      <td>32</td>\n",
       "      <td>United Healthcare</td>\n",
       "      <td>Commercial</td>\n",
       "    </tr>\n",
       "    <tr>\n",
       "      <th>2</th>\n",
       "      <td>162056352</td>\n",
       "      <td>\\tG0008,G0009,90471</td>\n",
       "      <td>238.74</td>\n",
       "      <td>155.18</td>\n",
       "      <td>348.23</td>\n",
       "      <td>17.48</td>\n",
       "      <td>Administration Of Vaccine</td>\n",
       "      <td>Outpatient</td>\n",
       "      <td>0</td>\n",
       "      <td>ALLWELL MEDICARE ADVANTAGE</td>\n",
       "      <td>48.76</td>\n",
       "      <td>10</td>\n",
       "      <td>Allwell</td>\n",
       "      <td>Medicare Advantage</td>\n",
       "    </tr>\n",
       "    <tr>\n",
       "      <th>3</th>\n",
       "      <td>162045690</td>\n",
       "      <td>\\tG0008,G0009,90471</td>\n",
       "      <td>238.74</td>\n",
       "      <td>155.18</td>\n",
       "      <td>348.23</td>\n",
       "      <td>17.48</td>\n",
       "      <td>Administration Of Vaccine</td>\n",
       "      <td>Outpatient</td>\n",
       "      <td>0</td>\n",
       "      <td>AETNA COMMERCIAL</td>\n",
       "      <td>61.61</td>\n",
       "      <td>2</td>\n",
       "      <td>Aetna</td>\n",
       "      <td>Commercial</td>\n",
       "    </tr>\n",
       "    <tr>\n",
       "      <th>4</th>\n",
       "      <td>162055032</td>\n",
       "      <td>\\tG0008,G0009,90471</td>\n",
       "      <td>238.74</td>\n",
       "      <td>155.18</td>\n",
       "      <td>348.23</td>\n",
       "      <td>17.48</td>\n",
       "      <td>Administration Of Vaccine</td>\n",
       "      <td>Outpatient</td>\n",
       "      <td>0</td>\n",
       "      <td>UMR COMMERCIAL</td>\n",
       "      <td>30.02</td>\n",
       "      <td>30</td>\n",
       "      <td>UMR</td>\n",
       "      <td>Commercial</td>\n",
       "    </tr>\n",
       "    <tr>\n",
       "      <th>...</th>\n",
       "      <td>...</td>\n",
       "      <td>...</td>\n",
       "      <td>...</td>\n",
       "      <td>...</td>\n",
       "      <td>...</td>\n",
       "      <td>...</td>\n",
       "      <td>...</td>\n",
       "      <td>...</td>\n",
       "      <td>...</td>\n",
       "      <td>...</td>\n",
       "      <td>...</td>\n",
       "      <td>...</td>\n",
       "      <td>...</td>\n",
       "      <td>...</td>\n",
       "    </tr>\n",
       "    <tr>\n",
       "      <th>3630</th>\n",
       "      <td>162042851</td>\n",
       "      <td>\\t74230</td>\n",
       "      <td>224.42</td>\n",
       "      <td>145.87</td>\n",
       "      <td>225.00</td>\n",
       "      <td>80.77</td>\n",
       "      <td>X-Ray Study Of Swallowing Function With Contrast</td>\n",
       "      <td>Outpatient</td>\n",
       "      <td>0</td>\n",
       "      <td>QUALCHOICE COMMERCIAL</td>\n",
       "      <td>225.00</td>\n",
       "      <td>28</td>\n",
       "      <td>Qualchoice</td>\n",
       "      <td>Commercial</td>\n",
       "    </tr>\n",
       "    <tr>\n",
       "      <th>3631</th>\n",
       "      <td>162051324</td>\n",
       "      <td>\\t74230</td>\n",
       "      <td>224.42</td>\n",
       "      <td>145.87</td>\n",
       "      <td>225.00</td>\n",
       "      <td>80.77</td>\n",
       "      <td>X-Ray Study Of Swallowing Function With Contrast</td>\n",
       "      <td>Outpatient</td>\n",
       "      <td>0</td>\n",
       "      <td>BLUE ADVANTAGE PPO</td>\n",
       "      <td>117.35</td>\n",
       "      <td>16</td>\n",
       "      <td>ABCBS</td>\n",
       "      <td>Blue Advantage PPO</td>\n",
       "    </tr>\n",
       "    <tr>\n",
       "      <th>3632</th>\n",
       "      <td>162038346</td>\n",
       "      <td>\\t74230</td>\n",
       "      <td>224.42</td>\n",
       "      <td>145.87</td>\n",
       "      <td>225.00</td>\n",
       "      <td>80.77</td>\n",
       "      <td>X-Ray Study Of Swallowing Function With Contrast</td>\n",
       "      <td>Outpatient</td>\n",
       "      <td>0</td>\n",
       "      <td>CONNECTICUT GENERAL LIFE INSURANCE COMPANY COM...</td>\n",
       "      <td>80.77</td>\n",
       "      <td>20</td>\n",
       "      <td>Connecticut General Life Insurance Co.</td>\n",
       "      <td>Commercial</td>\n",
       "    </tr>\n",
       "    <tr>\n",
       "      <th>3633</th>\n",
       "      <td>162037727</td>\n",
       "      <td>\\t74230</td>\n",
       "      <td>224.42</td>\n",
       "      <td>145.87</td>\n",
       "      <td>225.00</td>\n",
       "      <td>80.77</td>\n",
       "      <td>X-Ray Study Of Swallowing Function With Contrast</td>\n",
       "      <td>Outpatient</td>\n",
       "      <td>0</td>\n",
       "      <td>BLUECROSS BLUESHIELD MEDICARE ADVANTAGE</td>\n",
       "      <td>165.23</td>\n",
       "      <td>18</td>\n",
       "      <td>ABCBS</td>\n",
       "      <td>Medicare Advantage</td>\n",
       "    </tr>\n",
       "    <tr>\n",
       "      <th>3634</th>\n",
       "      <td>162056903</td>\n",
       "      <td>\\t74230</td>\n",
       "      <td>224.42</td>\n",
       "      <td>145.87</td>\n",
       "      <td>225.00</td>\n",
       "      <td>80.77</td>\n",
       "      <td>X-Ray Study Of Swallowing Function With Contrast</td>\n",
       "      <td>Outpatient</td>\n",
       "      <td>0</td>\n",
       "      <td>MEDPAY COMMERCIAL</td>\n",
       "      <td>209.25</td>\n",
       "      <td>24</td>\n",
       "      <td>Medpay</td>\n",
       "      <td>Commercial</td>\n",
       "    </tr>\n",
       "  </tbody>\n",
       "</table>\n",
       "<p>3635 rows × 14 columns</p>\n",
       "</div>"
      ],
      "text/plain": [
       "             id keyStr_Associated_Codes  num_Avg_Gross_Charge  \\\n",
       "0     162045918     \\tG0008,G0009,90471                238.74   \n",
       "1     162063116     \\tG0008,G0009,90471                238.74   \n",
       "2     162056352     \\tG0008,G0009,90471                238.74   \n",
       "3     162045690     \\tG0008,G0009,90471                238.74   \n",
       "4     162055032     \\tG0008,G0009,90471                238.74   \n",
       "...         ...                     ...                   ...   \n",
       "3630  162042851                 \\t74230                224.42   \n",
       "3631  162051324                 \\t74230                224.42   \n",
       "3632  162038346                 \\t74230                224.42   \n",
       "3633  162037727                 \\t74230                224.42   \n",
       "3634  162056903                 \\t74230                224.42   \n",
       "\n",
       "      num_Cash_Discount  num_DeIdentified_Max_Allowed  \\\n",
       "0                155.18                        348.23   \n",
       "1                155.18                        348.23   \n",
       "2                155.18                        348.23   \n",
       "3                155.18                        348.23   \n",
       "4                155.18                        348.23   \n",
       "...                 ...                           ...   \n",
       "3630             145.87                        225.00   \n",
       "3631             145.87                        225.00   \n",
       "3632             145.87                        225.00   \n",
       "3633             145.87                        225.00   \n",
       "3634             145.87                        225.00   \n",
       "\n",
       "      num_Deidentified_Min_Allowed  \\\n",
       "0                            17.48   \n",
       "1                            17.48   \n",
       "2                            17.48   \n",
       "3                            17.48   \n",
       "4                            17.48   \n",
       "...                            ...   \n",
       "3630                         80.77   \n",
       "3631                         80.77   \n",
       "3632                         80.77   \n",
       "3633                         80.77   \n",
       "3634                         80.77   \n",
       "\n",
       "                                    keyStr_description keyStr_iobSelection  \\\n",
       "0                            Administration Of Vaccine          Outpatient   \n",
       "1                            Administration Of Vaccine          Outpatient   \n",
       "2                            Administration Of Vaccine          Outpatient   \n",
       "3                            Administration Of Vaccine          Outpatient   \n",
       "4                            Administration Of Vaccine          Outpatient   \n",
       "...                                                ...                 ...   \n",
       "3630  X-Ray Study Of Swallowing Function With Contrast          Outpatient   \n",
       "3631  X-Ray Study Of Swallowing Function With Contrast          Outpatient   \n",
       "3632  X-Ray Study Of Swallowing Function With Contrast          Outpatient   \n",
       "3633  X-Ray Study Of Swallowing Function With Contrast          Outpatient   \n",
       "3634  X-Ray Study Of Swallowing Function With Contrast          Outpatient   \n",
       "\n",
       "     str_nonperformed                                          str_payer  \\\n",
       "0                   0               UNITED HEALTHCARE MEDICARE ADVANTAGE   \n",
       "1                   0                       UNITED HEALTHCARE COMMERCIAL   \n",
       "2                   0                         ALLWELL MEDICARE ADVANTAGE   \n",
       "3                   0                                   AETNA COMMERCIAL   \n",
       "4                   0                                     UMR COMMERCIAL   \n",
       "...               ...                                                ...   \n",
       "3630                0                              QUALCHOICE COMMERCIAL   \n",
       "3631                0                                 BLUE ADVANTAGE PPO   \n",
       "3632                0  CONNECTICUT GENERAL LIFE INSURANCE COMPANY COM...   \n",
       "3633                0            BLUECROSS BLUESHIELD MEDICARE ADVANTAGE   \n",
       "3634                0                                  MEDPAY COMMERCIAL   \n",
       "\n",
       "      num_Payer_Allowed_Amount num_payerId  \\\n",
       "0                        40.83          33   \n",
       "1                       103.95          32   \n",
       "2                        48.76          10   \n",
       "3                        61.61           2   \n",
       "4                        30.02          30   \n",
       "...                        ...         ...   \n",
       "3630                    225.00          28   \n",
       "3631                    117.35          16   \n",
       "3632                     80.77          20   \n",
       "3633                    165.23          18   \n",
       "3634                    209.25          24   \n",
       "\n",
       "                                       payer          payer_plan  \n",
       "0                          United Healthcare  Medicare Advantage  \n",
       "1                          United Healthcare          Commercial  \n",
       "2                                    Allwell  Medicare Advantage  \n",
       "3                                      Aetna          Commercial  \n",
       "4                                        UMR          Commercial  \n",
       "...                                      ...                 ...  \n",
       "3630                              Qualchoice          Commercial  \n",
       "3631                                   ABCBS  Blue Advantage PPO  \n",
       "3632  Connecticut General Life Insurance Co.          Commercial  \n",
       "3633                                   ABCBS  Medicare Advantage  \n",
       "3634                                  Medpay          Commercial  \n",
       "\n",
       "[3635 rows x 14 columns]"
      ]
     },
     "execution_count": 22,
     "metadata": {},
     "output_type": "execute_result"
    }
   ],
   "source": [
    "df"
   ]
  },
  {
   "cell_type": "markdown",
   "metadata": {},
   "source": [
    "## 5 Aggregate and Compare\n",
    "\n",
    "In this final step, we're going to aggregate both the Five Rivers and the SBMC data to find which has better pricing with ABCBS on average.\n",
    "\n",
    "### 5.1\n",
    "\n",
    "What are the average and median of the `allowed_amt` for the payer ABCBS from the Five Rivers data?"
   ]
  },
  {
   "cell_type": "code",
   "execution_count": 31,
   "metadata": {},
   "outputs": [
    {
     "data": {
      "text/plain": [
       "(529, 21)"
      ]
     },
     "execution_count": 31,
     "metadata": {},
     "output_type": "execute_result"
    }
   ],
   "source": [
    "abcbs = fiverivers[fiverivers['payer'] == 'ABCBS']"
   ]
  },
  {
   "cell_type": "code",
   "execution_count": 34,
   "metadata": {},
   "outputs": [
    {
     "data": {
      "text/plain": [
       "181.5259357277883"
      ]
     },
     "execution_count": 34,
     "metadata": {},
     "output_type": "execute_result"
    }
   ],
   "source": [
    "abcbs['allowed_amt'].mean()"
   ]
  },
  {
   "cell_type": "code",
   "execution_count": 35,
   "metadata": {},
   "outputs": [
    {
     "data": {
      "text/plain": [
       "77.6"
      ]
     },
     "execution_count": 35,
     "metadata": {},
     "output_type": "execute_result"
    }
   ],
   "source": [
    "abcbs['allowed_amt'].median()"
   ]
  },
  {
   "cell_type": "markdown",
   "metadata": {},
   "source": [
    "### 5.2\n",
    "\n",
    "What are the average and median of the `num_Payer_Allowed_Amount` for the payer ABCBS from the SBMC data?"
   ]
  },
  {
   "cell_type": "code",
   "execution_count": 41,
   "metadata": {},
   "outputs": [],
   "source": [
    "sbmc_abcbs= df[df['payer'] == 'ABCBS']"
   ]
  },
  {
   "cell_type": "code",
   "execution_count": 44,
   "metadata": {},
   "outputs": [
    {
     "data": {
      "text/plain": [
       "1477.1990426908148"
      ]
     },
     "execution_count": 44,
     "metadata": {},
     "output_type": "execute_result"
    }
   ],
   "source": [
    "sbmc_abcbs['num_Payer_Allowed_Amount'].mean()"
   ]
  },
  {
   "cell_type": "code",
   "execution_count": 46,
   "metadata": {},
   "outputs": [
    {
     "data": {
      "text/plain": [
       "135.76"
      ]
     },
     "execution_count": 46,
     "metadata": {},
     "output_type": "execute_result"
    }
   ],
   "source": [
    "sbmc_abcbs['num_Payer_Allowed_Amount'].median()"
   ]
  },
  {
   "cell_type": "markdown",
   "metadata": {},
   "source": [
    "### 5.3\n",
    "\n",
    "Do you feel like you can draw any preliminary conclusions from the mean and median values you see above?  What additional questions does it make you want to ask and explore?"
   ]
  },
  {
   "cell_type": "code",
   "execution_count": 51,
   "metadata": {},
   "outputs": [
    {
     "data": {
      "text/plain": [
       "count      773.000000\n",
       "mean      1477.199043\n",
       "std       4959.010632\n",
       "min          2.640000\n",
       "25%         62.770000\n",
       "50%        135.760000\n",
       "75%        590.770000\n",
       "max      52260.430000\n",
       "Name: num_Payer_Allowed_Amount, dtype: float64"
      ]
     },
     "execution_count": 51,
     "metadata": {},
     "output_type": "execute_result"
    }
   ],
   "source": [
    "sbmc_abcbs['num_Payer_Allowed_Amount'].describe()"
   ]
  },
  {
   "cell_type": "code",
   "execution_count": 52,
   "metadata": {},
   "outputs": [
    {
     "data": {
      "text/plain": [
       "count     529.000000\n",
       "mean      181.525936\n",
       "std       261.053281\n",
       "min         2.890000\n",
       "25%        17.590000\n",
       "50%        77.600000\n",
       "75%       197.520000\n",
       "max      1383.000000\n",
       "Name: allowed_amt, dtype: float64"
      ]
     },
     "execution_count": 52,
     "metadata": {},
     "output_type": "execute_result"
    }
   ],
   "source": [
    "abcbs['allowed_amt'].describe()"
   ]
  },
  {
   "cell_type": "code",
   "execution_count": 62,
   "metadata": {},
   "outputs": [
    {
     "data": {
      "text/plain": [
       "count      122.000000\n",
       "mean      8119.477049\n",
       "std      10179.471621\n",
       "min       1388.690000\n",
       "25%       2438.000000\n",
       "50%       3821.620000\n",
       "75%       8792.690000\n",
       "max      52260.430000\n",
       "Name: num_Payer_Allowed_Amount, dtype: float64"
      ]
     },
     "execution_count": 62,
     "metadata": {},
     "output_type": "execute_result"
    }
   ],
   "source": [
    "sbmc_high = sbmc_abcbs[sbmc_abcbs['num_Payer_Allowed_Amount'] > 1383]\n",
    "sbmc_high['num_Payer_Allowed_Amount'].describe"
   ]
  },
  {
   "cell_type": "code",
   "execution_count": 64,
   "metadata": {},
   "outputs": [
    {
     "data": {
      "text/plain": [
       "Repair Of Broken Vertebra By Injection Of Bone Cement                                               3\n",
       "Repair Of Hernia Using Laparoscope                                                                  3\n",
       "Dilation Of Heart Artery With Stent                                                                 3\n",
       "Removal Of Gallbladder                                                                              3\n",
       "Biopsy Of Uterine Lining Or Removal Of Polyps Using Hysteroscope                                    3\n",
       "Biopsy Of Bone Marrow                                                                               3\n",
       "Biopsy Of Lymph Nodes In Chest Using Bronchoscope                                                   3\n",
       "Diagnostic Exam Of Heart And Arteries With Catheter Insertion (Cardiac Catheterization)             3\n",
       "Surgical Treatment Of Incomplete Miscarriage                                                        3\n",
       "Removal Of Gallbladder Using Laparoscope                                                            3\n",
       "Comprehensive Study Of Electrical Activity In Heart Using Internal Catheter                         3\n",
       "Vaginal Delivery                                                                                    3\n",
       "Total Removal Of Prostate                                                                           3\n",
       "Destruction Of Kidney Or Ureteral Stones Using Cystoscope                                           3\n",
       "Biopsy Of Prostate                                                                                  3\n",
       "Insertion Of Ureteral Stent Using Cystoscope                                                        3\n",
       "Cesarean Section Delivery                                                                           3\n",
       "Insertion Or Replacement Of Permanent Pacemaker & Leads                                             3\n",
       "Opening Of Blocked Artery In Heart Through Catheter                                                 3\n",
       "Replacement Of Shoulder Joint                                                                       3\n",
       "Fragmentation Of Kidney Stones Using External Shockwave                                             3\n",
       "Insertion Or Replacement Of Venous Catheter With Pump And/Or Port                                   3\n",
       "Infusion Of Chemotherapy Drug Into Blood Vessel                                                     3\n",
       "Removal Of Foreign Body Or Stent From Bladder Or Urethra Using Cystoscope                           3\n",
       "Insertion Or Replacement Of Defibrillator (ICD) & Leads                                             3\n",
       "SPECT Scan Of Heart                                                                                 2\n",
       "Focused Radiation Treatment Of Body Lesion                                                          2\n",
       "Insertion Or Replacement Of Permanent Pacemaker                                                     2\n",
       "Bypass Graft Of Blocked Heart Artery                                                                2\n",
       "Removal Of Uterus With Tubes And/Or Ovaries Through Vagina                                          2\n",
       "Insertion Or Replacement Of Defibrillator (ICD)                                                     2\n",
       "Dilation Of Leg Artery Blockage With Stent                                                          2\n",
       "Removal Of Tonsils And Adenoids                                                                     2\n",
       "Removal Of Breast Growth Requiring Incision                                                         2\n",
       "Fusion Of Neck Bones                                                                                2\n",
       "Injection Of Chemotherapy Drug Into Muscle Or Skin                                                  2\n",
       "Destruction Of Uterine Fibroids Or Tissue Using Extreme Heat Or Cold                                2\n",
       "Removal Of Cartilage Or Tissue From Knee Joint Using Arthroscope                                    2\n",
       "Fusion Of Mid Or Lower Spine Bones                                                                  2\n",
       "Biopsy Of Superficial Lymph Node                                                                    2\n",
       "Insertion Of Heart Rhythm Monitor                                                                   2\n",
       "Repair Of Hernia Requiring Incision                                                                 2\n",
       "Removal Of Uterus With Tubes And/Or Ovaries Using Laparoscope                                       1\n",
       "Biopsy Of Breast Using Needle                                                                       1\n",
       "Release Or Relocation Of Ulnar Nerve                                                                1\n",
       "Dilation Of Dialysis Access Blockage Without Stent                                                  1\n",
       "Replacement Of Heart Valve                                                                          1\n",
       "Release Or Relocation Of Median Nerve                                                               1\n",
       "Removal Of Skin Growth Using Scalpel Or Knife                                                       1\n",
       "Insertion Of Radiation Therapy Device Into Vagina                                                   1\n",
       "Partial Removal Of Large Intestine                                                                  1\n",
       "Insertion Of Feeding Tube Into Stomach Or Small Intestine Through Abdominal Wall Using Endoscope    1\n",
       "Removal Or Destruction Of Stones From Pancreas Or Bile Duct Using Endoscope                         1\n",
       "Dilation Of Esophageal Blockage Without Stent                                                       1\n",
       "Partial Removal Of Breast                                                                           1\n",
       "Name: keyStr_description, dtype: int64"
      ]
     },
     "execution_count": 64,
     "metadata": {},
     "output_type": "execute_result"
    }
   ],
   "source": [
    "sbmc_high['keyStr_description'].value_counts()"
   ]
  },
  {
   "cell_type": "code",
   "execution_count": 61,
   "metadata": {},
   "outputs": [
    {
     "name": "stdout",
     "output_type": "stream",
     "text": [
      "Biopsy Of Large Intestine Using Colonoscope                      5\n",
      "Ultrasound Of Soft Tissue Of Head And Neck                       4\n",
      "CAT Scan Of Arm Without Contrast                                 4\n",
      "Ultrasound Of Non-Pregnant Uterus                                3\n",
      "Lab Test - Hemoglobin A1c Level                                  3\n",
      "                                                                ..\n",
      "Removal Of Ovaries And/Or Fallopian Tubes Using Laparoscope      1\n",
      "Lab Test - Electrolyte Panel                                     1\n",
      "Replacement Of Heart Valve                                       1\n",
      "Removal Of Uterus With Tubes And/Or Ovaries Using Laparoscope    1\n",
      "Partial Removal Of Breast                                        1\n",
      "Name: keyStr_description, Length: 290, dtype: int64\n"
     ]
    }
   ],
   "source": [
    "sbmc_types = sbmc_abcbs['keyStr_description'].value_counts()\n",
    "print(sbmc_types)"
   ]
  },
  {
   "cell_type": "code",
   "execution_count": 60,
   "metadata": {},
   "outputs": [
    {
     "data": {
      "text/plain": [
       "Single-Layer Repair Of Skin Wound                                      16\n",
       "Diagnostic Exam Of Large Intestine Using Colonoscope                   12\n",
       "Emergency Department Visit                                             10\n",
       "Outpatient Clinic Visit                                                 9\n",
       "Sleep Study Attended By Technologist                                    9\n",
       "                                                                       ..\n",
       "Lab Test - Ferritin Level                                               1\n",
       "X-Ray Of Face Bones                                                     1\n",
       "X-Ray Of Lower Leg                                                      1\n",
       "Biopsy Of Esophagus, Stomach And/Or Small Intestine Using Endoscope     1\n",
       "Lab Test - FSH Hormone Level                                            1\n",
       "Name: item_description, Length: 202, dtype: int64"
      ]
     },
     "execution_count": 60,
     "metadata": {},
     "output_type": "execute_result"
    }
   ],
   "source": [
    "abcbs_types = abcbs['item_description'].value_counts()\n",
    "abcbs_types"
   ]
  },
  {
   "cell_type": "markdown",
   "metadata": {},
   "source": [
    "SBMC appears to do more high dollar procedures for its ABCBS members resulting in an higher allowed amount statistics. "
   ]
  },
  {
   "cell_type": "code",
   "execution_count": null,
   "metadata": {},
   "outputs": [],
   "source": []
  },
  {
   "cell_type": "markdown",
   "metadata": {},
   "source": [
    "---\n",
    "\n",
    "---"
   ]
  },
  {
   "cell_type": "markdown",
   "metadata": {},
   "source": [
    "---\n",
    "\n",
    "## Submitting Your Work\n",
    "\n",
    "In order to submit your work, you'll need to use the `git` command line program to **add** your homework file (this file) to your local repository, **commit** your changes to your local repository, and then **push** those changes up to github.com.  From there, I'll be able to **pull** the changes down and do my grading.  I'll provide some feedback, **commit** and **push** my comments back to you.  The first line of code below will **pull** down my comments into your local folders.\n",
    "\n",
    "To run through everything one last time and submit your work:\n",
    "1. Use the `Kernel` -> `Restart Kernel and Run All Cells` menu option to run everything from top to bottom and stop here.\n",
    "2. Save this note with Ctrl-S (or Cmd-S)\n",
    "2. Skip down to the last command cell (the one starting with `%%bash`) and run that cell.\n",
    "\n",
    "If anything fails along the way with this submission part of the process, let me know.  I'll help you troubleshoort."
   ]
  },
  {
   "cell_type": "code",
   "execution_count": null,
   "metadata": {},
   "outputs": [],
   "source": []
  },
  {
   "cell_type": "code",
   "execution_count": null,
   "metadata": {},
   "outputs": [],
   "source": [
    "assert False, \"DO NOT REMOVE THIS LINE\""
   ]
  },
  {
   "cell_type": "markdown",
   "metadata": {},
   "source": [
    "---"
   ]
  },
  {
   "cell_type": "code",
   "execution_count": null,
   "metadata": {},
   "outputs": [],
   "source": [
    "%%bash\n",
    "git pull\n",
    "git add week13_assignment.ipynb\n",
    "git commit -a -m \"Submitting the week 13 assignment\"\n",
    "git push"
   ]
  },
  {
   "cell_type": "markdown",
   "metadata": {},
   "source": [
    "\n",
    "---\n",
    "\n",
    "If the message above says something like _Submitting the week 10 review exercises_ or _Everything is up to date_, then your work was submitted correctly."
   ]
  }
 ],
 "metadata": {
  "kernelspec": {
   "display_name": "Python 3",
   "language": "python",
   "name": "python3"
  },
  "language_info": {
   "codemirror_mode": {
    "name": "ipython",
    "version": 3
   },
   "file_extension": ".py",
   "mimetype": "text/x-python",
   "name": "python",
   "nbconvert_exporter": "python",
   "pygments_lexer": "ipython3",
   "version": "3.6.7"
  }
 },
 "nbformat": 4,
 "nbformat_minor": 4
}
