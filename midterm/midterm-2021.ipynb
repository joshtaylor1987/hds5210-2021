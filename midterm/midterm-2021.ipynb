{
 "cells": [
  {
   "cell_type": "markdown",
   "metadata": {},
   "source": [
    "# HDS5210-2021 Midterm\n",
    "\n",
    "In the midterm, you're going to focus on using the programming skills that you've developed so far to build a calculator three different risk scores and apply that to a data file. The three calculations you're going to write functions for are: \n",
    "* CHA2DS2-VASc Score for Atrial Fibrillation Stroke Risk - [link](https://www.mdcalc.com/cha2ds2-vasc-score-atrial-fibrillation-stroke-risk)\n",
    "* HEART Score for Major Cardiac Events - [link](https://www.mdcalc.com/heart-score-major-cardiac-events)\n",
    "* Framingham Risk Score for Hard Coronary Heart Disease - [link](https://www.mdcalc.com/framingham-risk-score-hard-coronary-heart-disease)\n",
    "\n",
    "In each of the next three parts, you'll be programming a function to calculate each score.  In the last part of the midterm, you'll take those functions and use them to calculate risk scores for a list of patients from a CSV file and select a limited group of patients that match a fourth set of risk assessment criteria.\n"
   ]
  },
  {
   "cell_type": "markdown",
   "metadata": {},
   "source": [
    "---\n",
    "\n",
    "## Part 1: CHA2DS2-VASc\n",
    "\n",
    "This scoring mechanism for Atrial Fibrillation Stroke uses 7 inputs:\n",
    "* Age (Number)\n",
    "* Sex (Male / Female)\n",
    "* CHF History (True / False)\n",
    "* Hypertension History (True / False)\n",
    "* Stroke History (True / False)\n",
    "* Vascular Disease History (True / False)\n",
    "* Diabetes History (True / False)\n",
    "\n",
    "Fill out the function below with logic to calculate the numeric risk score for teh given input.\n",
    "\n",
    "Be sure to provide meaningful documentation and at least two test cases in your documentation.  Also make sure your code satisfies the test cases provided in the assert statements."
   ]
  },
  {
   "cell_type": "code",
   "execution_count": 1,
   "metadata": {},
   "outputs": [],
   "source": [
    "def cha2ds2_vasc(age, sex, chf, hypertension, stroke, vascular, diabetes):\n",
    "    ### YOUR SOLUTION HERE\n",
    "    age_score = 0\n",
    "    sex_score = 0\n",
    "    chf_score = 0\n",
    "    hypertension_score = 0\n",
    "    stroke_score = 0\n",
    "    vascular_score = 0\n",
    "    diabetes_score = 0\n",
    "    \n",
    "    chads_score = age_score + sex_score + chf_score + hypertension_score + stroke_score + vascular_score + diabetes_score\n",
    "    \n",
    "    #The zero score evaluations in the below calculations are included for clarity though they are unnecessary due to established variable values. \n",
    "    #Additionally, all evaluations are included as opposed to finishing an if statement with an else for the same purpose.\n",
    "    \n",
    "    #calculations for age score\n",
    "    \n",
    "    if age < 65:\n",
    "        age_score = 0 \n",
    "    \n",
    "    elif age <= 74:\n",
    "        age_score = 1 \n",
    "   \n",
    "    elif age >= 75:\n",
    "        age_score = 2    \n",
    "    \n",
    "    \n",
    "    #calculations for sex score    \n",
    "    \n",
    "    if sex == 'Female':\n",
    "        sex_score = 1\n",
    "    \n",
    "    elif sex == 'Male':\n",
    "        sex_score = 0\n",
    "        \n",
    "    \n",
    "    #calculations for chf score\n",
    "   \n",
    "    if chf == True:\n",
    "        chf_score = 1\n",
    "    \n",
    "    elif chf == False:\n",
    "        chf_score = 0\n",
    "        \n",
    "    \n",
    "    #calcualtion for hypertension score\n",
    "    \n",
    "    if hypertension == True:\n",
    "        hypertension_score = 1\n",
    "    \n",
    "    elif hypertension == False:\n",
    "        hypertension_score = 0\n",
    "        \n",
    "    \n",
    "    #calculation for stroke score\n",
    "    \n",
    "    if stroke == True:\n",
    "        stroke_score = 2\n",
    "    \n",
    "    elif hypertension == False:\n",
    "        stroke_score = 0\n",
    "        \n",
    "    \n",
    "    #calculation for vasculare score\n",
    "    \n",
    "    if vascular == True:\n",
    "        vascular_score = 1\n",
    "    \n",
    "    elif vascular == False:\n",
    "        vascular_score = 0\n",
    "        \n",
    "    \n",
    "    #calculation for diabetes score\n",
    "    \n",
    "    if diabetes == True:\n",
    "        diabetes_score = 1\n",
    "    \n",
    "    elif diabetes == False:\n",
    "        diabetes_score = 0\n",
    "    \n",
    "    \n",
    "    chads_score = age_score + sex_score + chf_score + hypertension_score + stroke_score + vascular_score + diabetes_score\n",
    "        \n",
    "    \n",
    "    return chads_score\n",
    "\n",
    "        \n",
    "        "
   ]
  },
  {
   "cell_type": "code",
   "execution_count": 2,
   "metadata": {},
   "outputs": [
    {
     "data": {
      "text/plain": [
       "7"
      ]
     },
     "execution_count": 2,
     "metadata": {},
     "output_type": "execute_result"
    }
   ],
   "source": [
    "cha2ds2_vasc(82,'Male',False,True,True,True,True)"
   ]
  },
  {
   "cell_type": "code",
   "execution_count": 3,
   "metadata": {},
   "outputs": [
    {
     "data": {
      "text/plain": [
       "2"
      ]
     },
     "execution_count": 3,
     "metadata": {},
     "output_type": "execute_result"
    }
   ],
   "source": [
    "cha2ds2_vasc(22,'Male', False, False, True, False, False)"
   ]
  },
  {
   "cell_type": "markdown",
   "metadata": {},
   "source": [
    "Testing your code with assertions...."
   ]
  },
  {
   "cell_type": "code",
   "execution_count": 4,
   "metadata": {},
   "outputs": [],
   "source": [
    "assert cha2ds2_vasc(82,'Male',False,True,True,True,True) == 7\n",
    "assert cha2ds2_vasc(22,'Male',False,False,True,False,False) == 2\n",
    "assert cha2ds2_vasc(32,'Female',True,True,True,True,True) == 7\n",
    "assert cha2ds2_vasc(21,'Female',True,True,True,False,False) == 5\n",
    "assert cha2ds2_vasc(52,'Female',True,True,False,False,False) == 3\n",
    "assert cha2ds2_vasc(88,'Male',True,True,True,False,False) == 6\n",
    "assert cha2ds2_vasc(22,'Male',False,False,True,False,False) == 2\n",
    "assert cha2ds2_vasc(71,'Female',False,False,False,True,True) == 4\n",
    "assert cha2ds2_vasc(89,'Female',True,False,False,True,True) == 6\n",
    "assert cha2ds2_vasc(54,'Male',True,False,False,False,True) == 2\n",
    "assert cha2ds2_vasc(89,'Female',False,False,True,True,False) == 6\n",
    "assert cha2ds2_vasc(36,'Male',False,True,False,True,True) == 3\n",
    "assert cha2ds2_vasc(57,'Female',True,False,False,True,True) == 4\n",
    "assert cha2ds2_vasc(22,'Female',False,True,False,True,False) == 3\n",
    "assert cha2ds2_vasc(40,'Female',True,True,True,False,False) == 5\n",
    "assert cha2ds2_vasc(54,'Female',False,False,False,True,True) == 3\n",
    "assert cha2ds2_vasc(39,'Male',True,False,False,False,False) == 1\n",
    "assert cha2ds2_vasc(61,'Female',False,False,False,True,False) == 2\n",
    "assert cha2ds2_vasc(57,'Female',True,False,True,False,False) == 4\n",
    "assert cha2ds2_vasc(76,'Female',True,True,True,True,True) == 9\n",
    "assert cha2ds2_vasc(83,'Male',False,False,False,False,False) == 2\n",
    "assert cha2ds2_vasc(86,'Female',False,True,False,False,False) == 4\n",
    "assert cha2ds2_vasc(61,'Female',True,False,False,False,True) == 3\n",
    "assert cha2ds2_vasc(46,'Male',True,True,True,True,False) == 5\n",
    "assert cha2ds2_vasc(25,'Male',True,True,False,True,True) == 4\n",
    "assert cha2ds2_vasc(62,'Male',False,True,True,True,True) == 5\n",
    "assert cha2ds2_vasc(59,'Male',False,True,True,False,False) == 3\n",
    "assert cha2ds2_vasc(60,'Female',False,True,True,False,True) == 5\n",
    "assert cha2ds2_vasc(53,'Male',False,True,True,False,False) == 3"
   ]
  },
  {
   "cell_type": "markdown",
   "metadata": {},
   "source": [
    "---\n",
    "\n",
    "## Part 2: HEART Score\n",
    "\n",
    "The HEART score is a predictor for major cardiac events.  It requires 5 high-level inputs:\n",
    "* History (Slightly / Moderately / Highly suspicious)\n",
    "* EKG (Normal / Non-specific repolarization disturbance / Significant ST deviation)\n",
    "* Age (Number)\n",
    "* Risk Factors (Number of risk factors)\n",
    "* Initial Troponin (Number of times the normal limit)\n",
    "\n",
    "Fill out the function below with logic to calculate the numeric risk score for teh given input.\n",
    "\n",
    "Be sure to provide meaningful documentation and at least two test cases in your documentation. Also make sure your code satisfies the test cases provided in the assert statements."
   ]
  },
  {
   "cell_type": "code",
   "execution_count": 5,
   "metadata": {},
   "outputs": [],
   "source": [
    "def heart(history, ekg, age, risks, troponin):\n",
    "    ### YOUR SOLUTION HERE\n",
    "    \n",
    "    history_score = 0\n",
    "    ekg_score = 0\n",
    "    age_score = 0\n",
    "    risks_score = 0\n",
    "    troponin_score = 0\n",
    "    \n",
    "    heart_score = history_score + ekg_score + age_score + risks_score + troponin_score\n",
    "    \n",
    "    #The zero score evaluations in the below calculations are included for clarity though they are unnecessary due to established variable values. \n",
    "    #Additionally, all all evaluations are included as opposed to finishing an if statement with an else for the same purpose.\n",
    "    \n",
    "    \n",
    "    #history score calculation\n",
    "    \n",
    "    if history == 'Slightly suspicious':\n",
    "        history_score = 0\n",
    "    \n",
    "    elif history == 'Moderately suspicious':\n",
    "        history_score = 1\n",
    "    \n",
    "    elif history == 'Highly suspicious':\n",
    "        history_score = 2\n",
    "        \n",
    "#     print('history score', history_score)\n",
    "    \n",
    "    #ekg score calculation\n",
    "    \n",
    "    if ekg == 'Normal':\n",
    "        ekg_score = 0\n",
    "    \n",
    "    elif ekg == 'Non-specific repolarization':\n",
    "        ekg_score = 1\n",
    "    \n",
    "    elif ekg == 'Significant ST deviation':\n",
    "        ekg_score = 2\n",
    "        \n",
    "#     print('ekg score', ekg_score)\n",
    "    #age score calculation\n",
    "    \n",
    "    if age < 45:\n",
    "        age_score = 0\n",
    "    \n",
    "    elif age <= 64:\n",
    "        age_score = 1\n",
    "    \n",
    "    elif age >= 65:\n",
    "        age_score = 2\n",
    "        \n",
    "#     print('age score', age_score)\n",
    "    #risks score calculation\n",
    "    \n",
    "    if risks == 0:\n",
    "        risks_score = 0\n",
    "    \n",
    "    if risks <= 2:\n",
    "        risks_score = 1\n",
    "    \n",
    "    if risks >= 3:\n",
    "        risks_score = 2\n",
    "        \n",
    "#     print('risks score', risks_score)\n",
    "    #troponin score calculation\n",
    "    \n",
    "    if troponin <= 1:\n",
    "        troponin_score = 0\n",
    "    \n",
    "    elif troponin <= 3:\n",
    "        troponin_score = 1\n",
    "    \n",
    "    elif troponin >= 3:\n",
    "        troponin_score = 2\n",
    "        \n",
    "#     print('troponin score', troponin_score)\n",
    "    heart_score = history_score + ekg_score + age_score + risks_score + troponin_score\n",
    "    \n",
    "    return heart_score\n",
    "    \n",
    "        "
   ]
  },
  {
   "cell_type": "code",
   "execution_count": 6,
   "metadata": {},
   "outputs": [
    {
     "data": {
      "text/plain": [
       "3"
      ]
     },
     "execution_count": 6,
     "metadata": {},
     "output_type": "execute_result"
    }
   ],
   "source": [
    "heart('Slightly suspicious','Normal',83,1,1.0)"
   ]
  },
  {
   "cell_type": "code",
   "execution_count": 7,
   "metadata": {},
   "outputs": [
    {
     "data": {
      "text/plain": [
       "3"
      ]
     },
     "execution_count": 7,
     "metadata": {},
     "output_type": "execute_result"
    }
   ],
   "source": [
    "heart('Slightly suspicious', 'Non-specific repolarization', 22, 2, 2.3)"
   ]
  },
  {
   "cell_type": "code",
   "execution_count": 21,
   "metadata": {},
   "outputs": [],
   "source": [
    "assert heart('Moderately suspicious','Normal',82,4,3.8) == 7\n",
    "assert heart('Slightly suspicious','Non-specific repolarization',22,2,2.3) == 3\n",
    "assert heart('Slightly suspicious','Non-specific repolarization',32,4,1.3) == 4\n",
    "assert heart('Highly suspicious','Non-specific repolarization',21,1,1.1) == 5\n",
    "assert heart('Slightly suspicious','Normal',52,5,1.2) == 4\n",
    "assert heart('Moderately suspicious','Significant ST deviation',88,5,0.5) == 7\n",
    "assert heart('Slightly suspicious','Non-specific repolarization',22,5,3.0) == 4\n",
    "assert heart('Slightly suspicious','Significant ST deviation',71,4,3.9) == 8\n",
    "assert heart('Moderately suspicious','Non-specific repolarization',89,5,0.3) == 6\n",
    "assert heart('Highly suspicious','Normal',54,4,3.9) == 7\n",
    "assert heart('Moderately suspicious','Normal',89,3,0.3) == 5\n",
    "assert heart('Slightly suspicious','Non-specific repolarization',36,1,0.4) == 2\n",
    "assert heart('Moderately suspicious','Normal',57,4,1.3) == 5\n",
    "assert heart('Slightly suspicious','Normal',22,5,0.2) == 2\n",
    "assert heart('Slightly suspicious','Normal',40,4,3.9) == 4\n",
    "assert heart('Highly suspicious','Normal',54,3,3.1) == 7\n",
    "assert heart('Highly suspicious','Significant ST deviation',39,4,0.9) == 6\n",
    "assert heart('Moderately suspicious','Normal',61,2,1.9) == 4\n",
    "assert heart('Slightly suspicious','Normal',57,1,1.7) == 3\n",
    "assert heart('Moderately suspicious','Significant ST deviation',76,2,1.7) == 7\n",
    "assert heart('Slightly suspicious','Normal',83,1,1.0) == 3\n",
    "assert heart('Highly suspicious','Normal',86,1,2.3) == 6\n",
    "assert heart('Highly suspicious','Non-specific repolarization',61,2,3.5) == 7\n",
    "assert heart('Slightly suspicious','Normal',46,2,1.0) == 2\n",
    "assert heart('Slightly suspicious','Significant ST deviation',25,4,3.1) == 6\n",
    "assert heart('Moderately suspicious','Non-specific repolarization',62,1,2.4) == 5\n",
    "assert heart('Highly suspicious','Non-specific repolarization',59,2,3.6) == 7\n",
    "assert heart('Moderately suspicious','Significant ST deviation',60,1,2.1) == 6\n",
    "assert heart('Slightly suspicious','Normal',53,4,0.1) == 3"
   ]
  },
  {
   "cell_type": "markdown",
   "metadata": {},
   "source": [
    "## Part 3: Framingham Risk Score for Hard Coronary Heart Disease\n",
    "\n",
    "The Framingham Risk Score for Hard Coronary Heart Disease is intended for non diabetic patients age 30-79 only.  So, if the patient's age is < 30 or > 79, your function should return `-1` rather than a specific risk score.\n",
    "\n",
    "The Framingham Risk Score takes 7 inputs:\n",
    "* Age (Number)\n",
    "* Sex (Male / Female)\n",
    "* Smoker (True / False)\n",
    "* Total cholesterol (Number)\n",
    "* HDL cholesterol (Number)\n",
    "* Systolic BP (Number)\n",
    "* Blood pressure being treated with medicines (No / Yes)\n",
    "\n",
    "You'll not that rather than being a basic parametric equation, this is a regression function defined by coefficients.  It also requires you take the natural logarithm (`ln`) of many of the parameters.  To help you out, here's an example of how to interpret the formulat provided in the website's **Evidence** tab.\n",
    "\n",
    "Take special note of the footnotes in the logic:\n",
    "* *Yes=1, No=0 (for Treated for blood pressure and Smoker)\n",
    "* ** Men: if age >70, use ln(70) x Smoker. Women: if age >78, use ln(78) x Smoker.\n",
    "\n",
    "\n",
    "---\n",
    "\n",
    "These segments of the equation and the coefficient table...\n",
    "\n",
    "> $ L_{Men} = \\beta \\times \\ln(Age) + \\beta \\times \\ln(cholesterol) ... $\n",
    ">\n",
    "> | Variable &nbsp; &nbsp; &nbsp; &nbsp; &nbsp; &nbsp; &nbsp; &nbsp; &nbsp; &nbsp; &nbsp; &nbsp; &nbsp; | Men | Women\n",
    "> | :---------------------------- | :--: | :--: |\n",
    "> | $ \\ln(Age) $ | 52.00961 | 31.764001\n",
    "> | $ \\ln(Cholesterol) $ | 20.014077 | 22.465206\n",
    "\n",
    "Could be written in Python as follows:\n",
    "\n",
    "```python\n",
    "import math\n",
    "\n",
    "L = 0\n",
    "if sex == \"Male\":\n",
    "    L += 52.00961 * math.ln(age)\n",
    "    L += 20.014077 * math.ln(cholesterol)\n",
    "else:\n",
    "    L += 31.764001 * math.ln(age)\n",
    "    L += 22.465206 * math.ln(cholesterol)\n",
    "```\n",
    "\n",
    "---\n",
    "\n",
    "**ROUND YOUR FINAL RESULT TO 4 DECIMAL PLACES**"
   ]
  },
  {
   "cell_type": "code",
   "execution_count": 9,
   "metadata": {},
   "outputs": [],
   "source": [
    "import math\n",
    "def framingham(age, sex, smoker, cholesterol, hdl, systolic, bp_treated):\n",
    "    ### YOUR SOLUTION HERE\n",
    "    \n",
    "#     age_score = 0\n",
    "#     sex_score = 0\n",
    "#     smoker_score = 0\n",
    "#     cholesterol_score = 0\n",
    "#     hdl_score = 0\n",
    "#     systolic_score = 0\n",
    "#     bp_score = 0\n",
    "    \n",
    "#     framingham_score = age_score + sex_score + smoker_score + sholesterol_score + hdl_score + systolic_score + bp_score\n",
    "    \n",
    "    if age < 30 or age > 79:\n",
    "        return -1\n",
    "    else:\n",
    "        L = 0\n",
    "        if sex == 'Male':\n",
    "            L += 52.00961 * math.log(age)\n",
    "            L += 20.014077 * math.log(cholesterol)\n",
    "            L += -0.905964 * math.log(hdl)\n",
    "            L += 1.305784 * math.log(systolic)\n",
    "            L += 0.241549 * bp_treated\n",
    "            L += 12.096316 * smoker\n",
    "            L += -4.605038 * math.log(age) * math.log(cholesterol)\n",
    "            if age > 70:\n",
    "                L += -2.84367 * math.log(70) * smoker\n",
    "            else:\n",
    "                L += -2.84367 * math.log(age) * smoker\n",
    "            L += -2.93323 * math.log(age) * math.log(age)\n",
    "            L += -172.300168\n",
    "            \n",
    "            P = 1 - (0.9402 ** math.exp(L))\n",
    "            \n",
    "            return round(P, 4)\n",
    "            \n",
    "        elif sex == 'Female':\n",
    "            L += 31.764001 * math.log(age)\n",
    "            L += 22.465206 * math.log(cholesterol)\n",
    "            L += -1.187731 * math.log(hdl)\n",
    "            L += 2.552905 * math.log(systolic)\n",
    "            L += 0.420251 * bp_treated\n",
    "            L += 13.07543 * smoker\n",
    "            L += -5.060998 * math.log(age) * math.log(cholesterol)\n",
    "            if age > 78:\n",
    "                L += -2.996945 * math.log(78) * smoker\n",
    "            else:\n",
    "                L += -2.996945 * math.log(age) * smoker\n",
    "            L += -146.5933061\n",
    "            \n",
    "            P = 1 - (0.98767 ** math.exp(L))\n",
    "            \n",
    "            return round(P, 4)\n",
    "            "
   ]
  },
  {
   "cell_type": "code",
   "execution_count": 10,
   "metadata": {},
   "outputs": [
    {
     "data": {
      "text/plain": [
       "0.0465"
      ]
     },
     "execution_count": 10,
     "metadata": {},
     "output_type": "execute_result"
    }
   ],
   "source": [
    "framingham(36,'Male',True,169,33,128,True)"
   ]
  },
  {
   "cell_type": "code",
   "execution_count": 11,
   "metadata": {},
   "outputs": [
    {
     "data": {
      "text/plain": [
       "0.0015"
      ]
     },
     "execution_count": 11,
     "metadata": {},
     "output_type": "execute_result"
    }
   ],
   "source": [
    "framingham(32, 'Female', False, 195, 31, 115, True)"
   ]
  },
  {
   "cell_type": "code",
   "execution_count": 12,
   "metadata": {},
   "outputs": [],
   "source": [
    "assert framingham(82,'Male',False,214,64,92,True) == -1\n",
    "assert framingham(22,'Male',False,146,33,102,False) == -1\n",
    "assert framingham(32,'Female',False,195,31,115,True) == 0.0015\n",
    "assert framingham(21,'Female',False,152,42,82,True) == -1\n",
    "assert framingham(52,'Female',False,214,58,85,True) == 0.005\n",
    "assert framingham(88,'Male',True,173,67,104,False) == -1\n",
    "assert framingham(22,'Male',False,163,62,112,False) == -1\n",
    "assert framingham(71,'Female',False,188,30,99,False) == 0.0391\n",
    "assert framingham(89,'Female',True,172,55,88,False) == -1\n",
    "assert framingham(54,'Male',False,156,52,117,True) == 0.0437\n",
    "assert framingham(89,'Female',False,147,58,127,True) == -1\n",
    "assert framingham(36,'Male',True,169,33,128,True) == 0.0465\n",
    "assert framingham(57,'Female',True,204,40,86,False) == 0.0189\n",
    "assert framingham(22,'Female',False,177,59,81,False) == -1\n",
    "assert framingham(40,'Female',False,165,43,111,True) == 0.0016\n",
    "assert framingham(54,'Female',True,200,50,86,False) == 0.0126\n",
    "assert framingham(39,'Male',False,189,49,130,True) == 0.0126\n",
    "assert framingham(61,'Female',True,176,68,106,False) == 0.0153\n",
    "assert framingham(57,'Female',False,181,47,124,True) == 0.0183\n",
    "assert framingham(76,'Female',True,162,56,94,False) == 0.0239\n",
    "assert framingham(83,'Male',False,215,52,98,True) == -1\n",
    "assert framingham(86,'Female',True,169,55,100,True) == -1\n",
    "assert framingham(61,'Female',False,151,65,86,True) == 0.0053\n",
    "assert framingham(46,'Male',False,174,64,114,False) == 0.0142\n",
    "assert framingham(25,'Male',False,193,31,84,False) == -1\n",
    "assert framingham(62,'Male',False,167,31,115,False) == 0.1098\n",
    "assert framingham(59,'Male',True,174,66,88,True) == 0.0709\n",
    "assert framingham(60,'Female',True,156,63,124,True) == 0.0293\n",
    "assert framingham(53,'Male',False,141,51,109,False) == 0.0244"
   ]
  },
  {
   "cell_type": "markdown",
   "metadata": {},
   "source": [
    "---\n",
    "\n",
    "## Part 4. Putting it all together\n",
    "\n",
    "Now that we have our three scores, we need to put them together into an overall composite risk score for a whole group of patients.  Those patients are in a CSV file on the server called `/data/midterm_patients.csv`.  You can open this file in Jupyter by browsing to your Home icon -> from_instructor -> data.  There are several things that you're going to need to do read this file, calculate individual risk scores, and compute an overall risk score.\n",
    "\n",
    "First, you'll notice that some of the column names are different between the data in the input file and the values that are expected by your functions above.  For example: \"M\" from the file needs to be turned into \"Male\" and \"Yes\" in the file needs to be turned into \"True\".  You will need to do conversions for all of the fields listed below:\n",
    "\n",
    "| Field in CSV | Parameter Name Above | Source Values | Values Needed Above |\n",
    "| :----------- | :------------------- | :-: | :-: |\n",
    "| bp medicine  | bp_treated           | Yes / No | True / False |\n",
    "| sex          | sex                  | M / F | Male / Female |\n",
    "| smoker       | smoker               | Yes / No | True / False |\n",
    "| risk factors | risks                | # | # |\n",
    "| chf       | chf history               | Yes / No | True / False |\n",
    "| hypertension       | hypertension history               | Yes / No | True / False |\n",
    "| stroke    | stroke history             | Yes / No | True / False |\n",
    "| vascular      | vascular disease history           | Yes / No | True / False |\n",
    "| diabetes     | diabetes history              | Yes / No | True / False |\n",
    "\n",
    "\n",
    "After calculating these three risk scores, use the rules below to determine who is at highest risk.  To be classified as \"High Risk\" a patient must meet all three criteria below:\n",
    "1. CHA2DS2_VASc >= 2\n",
    "2. HEART >= 4\n",
    "3. Framingham >= 3%\n",
    "\n",
    "Your output for this function needs to be a list where each item in this contains `[patient, CHA2DS2_VASc, HEART, Framingham, High Risk]`"
   ]
  },
  {
   "cell_type": "code",
   "execution_count": 13,
   "metadata": {},
   "outputs": [
    {
     "name": "stdout",
     "output_type": "stream",
     "text": [
      "['\\ufeffpatient', 'age', 'sex', 'chf history', 'hypertension history', 'stroke history', 'vascular disease history', 'diabetes history', 'history', 'ekg', 'risk factors', 'troponin', 'smoker', 'total cholesterol', 'hdl cholesterol', 'systolic bp', 'bp medicine']\n",
      "['E40794', '82', 'M', 'No', 'Yes', 'Yes', 'Yes', 'Yes', 'Moderately suspicious', 'Normal', '4', '3.8', 'No', '214', '64', '92', 'Yes']\n",
      "['E57853', '22', 'M', 'No', 'No', 'Yes', 'No', 'No', 'Slightly suspicious', 'Non-specific repolarization', '2', '2.3', 'No', '146', '33', '102', 'No']\n",
      "['E63841', '32', 'F', 'Yes', 'Yes', 'Yes', 'Yes', 'Yes', 'Slightly suspicious', 'Non-specific repolarization', '4', '1.3', 'No', '195', '31', '115', 'Yes']\n",
      "['E87700', '21', 'F', 'Yes', 'Yes', 'Yes', 'No', 'No', 'Highly suspicious', 'Non-specific repolarization', '1', '1.1', 'No', '152', '42', '82', 'Yes']\n",
      "['E49662', '52', 'F', 'Yes', 'Yes', 'No', 'No', 'No', 'Slightly suspicious', 'Normal', '5', '1.2', 'No', '214', '58', '85', 'Yes']\n",
      "['E19241', '88', 'M', 'Yes', 'Yes', 'Yes', 'No', 'No', 'Moderately suspicious', 'Significant ST deviation', '5', '0.5', 'Yes', '173', '67', '104', 'No']\n",
      "['E94033', '22', 'M', 'No', 'No', 'Yes', 'No', 'No', 'Slightly suspicious', 'Non-specific repolarization', '5', '3', 'No', '163', '62', '112', 'No']\n",
      "['E19724', '71', 'F', 'No', 'No', 'No', 'Yes', 'Yes', 'Slightly suspicious', 'Significant ST deviation', '4', '3.9', 'No', '188', '30', '99', 'No']\n",
      "['E77077', '89', 'F', 'Yes', 'No', 'No', 'Yes', 'Yes', 'Moderately suspicious', 'Non-specific repolarization', '5', '0.3', 'Yes', '172', '55', '88', 'No']\n",
      "['E75736', '54', 'M', 'Yes', 'No', 'No', 'No', 'Yes', 'Highly suspicious', 'Normal', '4', '3.9', 'No', '156', '52', '117', 'Yes']\n"
     ]
    }
   ],
   "source": [
    "import csv\n",
    "patient_file = '/data/test-patients.csv'\n",
    "with open(patient_file) as f:\n",
    "    csv_reader = csv.reader(f)\n",
    "    counter = 0 \n",
    "    max_lines = 10\n",
    "    for row in csv_reader:\n",
    "        print(row)\n",
    "        counter += 1\n",
    "        if counter > max_lines:\n",
    "            break"
   ]
  },
  {
   "cell_type": "code",
   "execution_count": 14,
   "metadata": {},
   "outputs": [
    {
     "name": "stdout",
     "output_type": "stream",
     "text": [
      "['patient', 'age', 'sex', 'chf history', 'hypertension history', 'stroke history', 'vascular disease history', 'diabetes history', 'history', 'ekg', 'risk factors', 'troponin', 'smoker', 'total cholesterol', 'hdl cholesterol', 'systolic bp', 'bp medicine']\n",
      "['E40794', '82', 'Male', '0', '1', '1', '1', '1', 'Moderately suspicious', 'Normal', '4', '3.8', '0', '214', '64', '92', '1']\n",
      "['E57853', '22', 'Male', '0', '0', '1', '0', '0', 'Slightly suspicious', 'Non-specific repolarization', '2', '2.3', '0', '146', '33', '102', '0']\n",
      "['E63841', '32', 'Female', '1', '1', '1', '1', '1', 'Slightly suspicious', 'Non-specific repolarization', '4', '1.3', '0', '195', '31', '115', '1']\n",
      "['E87700', '21', 'Female', '1', '1', '1', '0', '0', 'Highly suspicious', 'Non-specific repolarization', '1', '1.1', '0', '152', '42', '82', '1']\n",
      "['E49662', '52', 'Female', '1', '1', '0', '0', '0', 'Slightly suspicious', 'Normal', '5', '1.2', '0', '214', '58', '85', '1']\n",
      "['E19241', '88', 'Male', '1', '1', '1', '0', '0', 'Moderately suspicious', 'Significant ST deviation', '5', '0.5', '1', '173', '67', '104', '0']\n",
      "['E94033', '22', 'Male', '0', '0', '1', '0', '0', 'Slightly suspicious', 'Non-specific repolarization', '5', '3.0', '0', '163', '62', '112', '0']\n",
      "['E19724', '71', 'Female', '0', '0', '0', '1', '1', 'Slightly suspicious', 'Significant ST deviation', '4', '3.9', '0', '188', '30', '99', '0']\n",
      "['E77077', '89', 'Female', '1', '0', '0', '1', '1', 'Moderately suspicious', 'Non-specific repolarization', '5', '0.3', '1', '172', '55', '88', '0']\n",
      "['E75736', '54', 'Male', '1', '0', '0', '0', '1', 'Highly suspicious', 'Normal', '4', '3.9', '0', '156', '52', '117', '1']\n"
     ]
    }
   ],
   "source": [
    "import pandas as pd\n",
    "\n",
    "# making data frame from the csv file  \n",
    "dataframe = pd.read_csv('/data/test-patients.csv')  \n",
    "    \n",
    "# using the replace() method \n",
    "dataframe.replace(to_replace =\"M\",  \n",
    "                 value = \"Male\",  \n",
    "                  inplace = True) \n",
    "dataframe.replace(to_replace =\"F\",  \n",
    "                 value = \"Female\",  \n",
    "                  inplace = True) \n",
    "dataframe.replace(to_replace =\"Yes\",  \n",
    "                 value = 1,  \n",
    "                  inplace = True)\n",
    "dataframe.replace(to_replace =\"No\",  \n",
    "                 value = 0,  \n",
    "                  inplace = True)\n",
    "  \n",
    "# writing  the dataframe to another csv file \n",
    "dataframe.to_csv('outputfile.csv',  \n",
    "                 index = False)\n",
    "patient_file = 'outputfile.csv'\n",
    "with open(patient_file) as f:\n",
    "    csv_reader = csv.reader(f)\n",
    "    counter = 0 \n",
    "    max_lines = 10\n",
    "    for row in csv_reader:\n",
    "        print(row)\n",
    "        counter += 1\n",
    "        if counter > max_lines:\n",
    "            break"
   ]
  },
  {
   "cell_type": "markdown",
   "metadata": {},
   "source": [
    "heart(history, ekg, age, risks, troponin)"
   ]
  },
  {
   "cell_type": "code",
   "execution_count": 15,
   "metadata": {},
   "outputs": [
    {
     "data": {
      "text/plain": [
       "7"
      ]
     },
     "execution_count": 15,
     "metadata": {},
     "output_type": "execute_result"
    }
   ],
   "source": [
    "heart('Moderately suspicious', 'Normal', 82, 4, 3.8)"
   ]
  },
  {
   "cell_type": "code",
   "execution_count": 16,
   "metadata": {},
   "outputs": [],
   "source": [
    "def test_patients_heart(filename):\n",
    "    ### YOUR SOLUTION HERE\n",
    "\n",
    "    import pandas as pd\n",
    "\n",
    "    # making data frame from the csv file  \n",
    "    dataframe = pd.read_csv('/data/test-patients.csv')  \n",
    "\n",
    "    # using the replace() method \n",
    "    dataframe.replace(to_replace =\"M\",  \n",
    "                     value = \"Male\",  \n",
    "                      inplace = True) \n",
    "    dataframe.replace(to_replace =\"F\",  \n",
    "                     value = \"Female\",  \n",
    "                      inplace = True) \n",
    "    dataframe.replace(to_replace =\"Yes\",  \n",
    "                     value = 1,  \n",
    "                      inplace = True)\n",
    "    dataframe.replace(to_replace =\"No\",  \n",
    "                     value = 0,  \n",
    "                      inplace = True)\n",
    "\n",
    "    # writing  the dataframe to another csv file \n",
    "    dataframe.to_csv('outputfile.csv',  \n",
    "                     index = False)\n",
    "    \n",
    "    patient_file = 'outputfile.csv'\n",
    "    with open(patient_file) as f:\n",
    "        csv_reader = csv.reader(f)\n",
    "        next(f)\n",
    "        \n",
    "        patient_testing= []\n",
    "        \n",
    "        \n",
    "        for patient in csv_reader:\n",
    "            \n",
    "            name = patient[0]\n",
    "\n",
    "            chad = cha2ds2_vasc(int(patient[1]), patient[2], bool(int(patient[3])), bool(int(patient[4])), bool(int(patient[5])), bool(int(patient[6])), bool(int(patient[7])))\n",
    "            \n",
    "            loto = heart(patient[8], patient[9], int(patient[1]), int(patient[10]), float(patient[11]))\n",
    "            \n",
    "            print(patient[0], \": \", patient[8], \"-\", patient[9], \"-\", int(patient[1]), \"-\", int(patient[10]), \"-\", float(patient[11]), '-- heart score', loto)\n",
    "\n",
    "            fram = framingham(int(patient[1]), patient[2], bool(int(patient[12])), int(float(patient[13])), \n",
    "                              int(float(patient[14])), int(float(patient[15])), bool(int(patient[16])))\n",
    "\n",
    "            if chad >= 2 and loto >= 4 and fram >= .03:\n",
    "                high_risk = True\n",
    "            else:\n",
    "                high_risk = False\n",
    "            \n",
    "            patient_testing.append([name, float(chad), float(loto), float(fram), high_risk])\n",
    "            \n",
    "            \n",
    "        return patient_testing\n"
   ]
  },
  {
   "cell_type": "code",
   "execution_count": 17,
   "metadata": {},
   "outputs": [
    {
     "name": "stdout",
     "output_type": "stream",
     "text": [
      "E40794 :  Moderately suspicious - Normal - 82 - 4 - 3.8 -- heart score 7\n",
      "E57853 :  Slightly suspicious - Non-specific repolarization - 22 - 2 - 2.3 -- heart score 3\n",
      "E63841 :  Slightly suspicious - Non-specific repolarization - 32 - 4 - 1.3 -- heart score 4\n",
      "E87700 :  Highly suspicious - Non-specific repolarization - 21 - 1 - 1.1 -- heart score 5\n",
      "E49662 :  Slightly suspicious - Normal - 52 - 5 - 1.2 -- heart score 4\n",
      "E19241 :  Moderately suspicious - Significant ST deviation - 88 - 5 - 0.5 -- heart score 7\n",
      "E94033 :  Slightly suspicious - Non-specific repolarization - 22 - 5 - 3.0 -- heart score 4\n",
      "E19724 :  Slightly suspicious - Significant ST deviation - 71 - 4 - 3.9 -- heart score 8\n",
      "E77077 :  Moderately suspicious - Non-specific repolarization - 89 - 5 - 0.3 -- heart score 6\n",
      "E75736 :  Highly suspicious - Normal - 54 - 4 - 3.9 -- heart score 7\n",
      "E20246 :  Moderately suspicious - Normal - 89 - 3 - 0.3 -- heart score 5\n",
      "E58235 :  Slightly suspicious - Non-specific repolarization - 36 - 1 - 0.4 -- heart score 2\n",
      "E29619 :  Moderately suspicious - Normal - 57 - 4 - 1.3 -- heart score 5\n",
      "E18023 :  Slightly suspicious - Normal - 22 - 5 - 0.2 -- heart score 2\n",
      "E56386 :  Slightly suspicious - Normal - 40 - 4 - 3.9 -- heart score 4\n",
      "E87379 :  Highly suspicious - Normal - 54 - 3 - 3.1 -- heart score 7\n",
      "E44264 :  Highly suspicious - Significant ST deviation - 39 - 4 - 0.9 -- heart score 6\n",
      "E85955 :  Moderately suspicious - Normal - 61 - 2 - 1.9 -- heart score 4\n",
      "E17497 :  Slightly suspicious - Normal - 57 - 1 - 1.7 -- heart score 3\n",
      "E11391 :  Moderately suspicious - Significant ST deviation - 76 - 2 - 1.7 -- heart score 7\n",
      "E41611 :  Slightly suspicious - Normal - 83 - 1 - 1.0 -- heart score 3\n",
      "E66188 :  Highly suspicious - Normal - 86 - 1 - 2.3 -- heart score 6\n",
      "E74052 :  Highly suspicious - Non-specific repolarization - 61 - 2 - 3.5 -- heart score 7\n",
      "E40182 :  Slightly suspicious - Normal - 46 - 2 - 1.0 -- heart score 2\n",
      "E21161 :  Slightly suspicious - Significant ST deviation - 25 - 4 - 3.1 -- heart score 6\n",
      "E59494 :  Moderately suspicious - Non-specific repolarization - 62 - 1 - 2.4 -- heart score 5\n",
      "E61747 :  Highly suspicious - Non-specific repolarization - 59 - 2 - 3.6 -- heart score 7\n",
      "E42697 :  Moderately suspicious - Significant ST deviation - 60 - 1 - 2.1 -- heart score 6\n",
      "E61043 :  Slightly suspicious - Normal - 53 - 4 - 0.1 -- heart score 3\n"
     ]
    },
    {
     "data": {
      "text/plain": [
       "[['E40794', 7.0, 7.0, -1.0, False],\n",
       " ['E57853', 2.0, 3.0, -1.0, False],\n",
       " ['E63841', 7.0, 4.0, 0.0015, False],\n",
       " ['E87700', 5.0, 5.0, -1.0, False],\n",
       " ['E49662', 3.0, 4.0, 0.005, False],\n",
       " ['E19241', 6.0, 7.0, -1.0, False],\n",
       " ['E94033', 2.0, 4.0, -1.0, False],\n",
       " ['E19724', 4.0, 8.0, 0.0391, True],\n",
       " ['E77077', 6.0, 6.0, -1.0, False],\n",
       " ['E75736', 2.0, 7.0, 0.0437, True],\n",
       " ['E20246', 6.0, 5.0, -1.0, False],\n",
       " ['E58235', 3.0, 2.0, 0.0465, False],\n",
       " ['E29619', 4.0, 5.0, 0.0189, False],\n",
       " ['E18023', 3.0, 2.0, -1.0, False],\n",
       " ['E56386', 5.0, 4.0, 0.0016, False],\n",
       " ['E87379', 3.0, 7.0, 0.0126, False],\n",
       " ['E44264', 1.0, 6.0, 0.0126, False],\n",
       " ['E85955', 2.0, 4.0, 0.0153, False],\n",
       " ['E17497', 4.0, 3.0, 0.0183, False],\n",
       " ['E11391', 9.0, 7.0, 0.0239, False],\n",
       " ['E41611', 2.0, 3.0, -1.0, False],\n",
       " ['E66188', 4.0, 6.0, -1.0, False],\n",
       " ['E74052', 3.0, 7.0, 0.0053, False],\n",
       " ['E40182', 5.0, 2.0, 0.0142, False],\n",
       " ['E21161', 4.0, 6.0, -1.0, False],\n",
       " ['E59494', 5.0, 5.0, 0.1098, True],\n",
       " ['E61747', 3.0, 7.0, 0.0709, True],\n",
       " ['E42697', 5.0, 6.0, 0.0293, False],\n",
       " ['E61043', 3.0, 3.0, 0.0244, False]]"
      ]
     },
     "execution_count": 17,
     "metadata": {},
     "output_type": "execute_result"
    }
   ],
   "source": [
    "test_patients_heart('/data/test-patients.csv')"
   ]
  },
  {
   "cell_type": "markdown",
   "metadata": {},
   "source": [
    "Upon review of each individual HEART score appears to be performing appropriatley, though not matching all the assertions possed below."
   ]
  },
  {
   "cell_type": "code",
   "execution_count": 18,
   "metadata": {},
   "outputs": [],
   "source": [
    "def test_patients(filename):\n",
    "    ### YOUR SOLUTION HERE\n",
    "\n",
    "    import pandas as pd\n",
    "\n",
    "    # making data frame from the csv file  \n",
    "    dataframe = pd.read_csv('/data/test-patients.csv')  \n",
    "\n",
    "    # using the replace() method \n",
    "    dataframe.replace(to_replace =\"M\",  \n",
    "                     value = \"Male\",  \n",
    "                      inplace = True) \n",
    "    dataframe.replace(to_replace =\"F\",  \n",
    "                     value = \"Female\",  \n",
    "                      inplace = True) \n",
    "    dataframe.replace(to_replace =\"Yes\",  \n",
    "                     value = 1,  \n",
    "                      inplace = True)\n",
    "    dataframe.replace(to_replace =\"No\",  \n",
    "                     value = 0,  \n",
    "                      inplace = True)\n",
    "\n",
    "    # writing  the dataframe to another csv file \n",
    "    dataframe.to_csv('outputfile.csv',  \n",
    "                     index = False)\n",
    "    \n",
    "    patient_file = 'outputfile.csv'\n",
    "    with open(patient_file) as f:\n",
    "        csv_reader = csv.reader(f)\n",
    "        next(f)\n",
    "        \n",
    "        patient_testing= []\n",
    "        \n",
    "        \n",
    "        for patient in csv_reader:\n",
    "            \n",
    "            name = patient[0]\n",
    "\n",
    "            chad = cha2ds2_vasc(int(patient[1]), patient[2], bool(int(patient[3])), bool(int(patient[4])), bool(int(patient[5])), bool(int(patient[6])), bool(int(patient[7])))\n",
    "            \n",
    "            loto = heart(patient[8], patient[9], int(patient[1]), int(patient[10]), float(patient[11]))\n",
    "            \n",
    "            fram = framingham(int(patient[1]), patient[2], bool(int(patient[12])), int(float(patient[13])), \n",
    "                              int(float(patient[14])), int(float(patient[15])), bool(int(patient[16])))\n",
    "\n",
    "            if chad >= 2 and loto >= 4 and fram >= .03:\n",
    "                high_risk = True\n",
    "            else:\n",
    "                high_risk = False\n",
    "            \n",
    "            patient_testing.append([name, float(chad), float(loto), float(fram), high_risk])\n",
    "            \n",
    "            \n",
    "        return patient_testing\n",
    "\n",
    "        \n",
    "        \n",
    "    \n"
   ]
  },
  {
   "cell_type": "code",
   "execution_count": 22,
   "metadata": {},
   "outputs": [],
   "source": [
    "answers = [['E40794', 7.0, 7.0, -1.0, False],\n",
    " ['E57853', 2.0, 3.0, -1.0, False],\n",
    " ['E63841', 7.0, 4.0, 0.0015, False],\n",
    " ['E87700', 5.0, 5.0, -1.0, False],\n",
    " ['E49662', 3.0, 4.0, 0.005, False],\n",
    " ['E19241', 6.0, 7.0, -1.0, False],\n",
    " ['E94033', 2.0, 4.0, -1.0, False],\n",
    " ['E19724', 4.0, 8.0, 0.0391, True],\n",
    " ['E77077', 6.0, 6.0, -1.0, False],\n",
    " ['E75736', 2.0, 7.0, 0.0437, True],\n",
    " ['E20246', 6.0, 5.0, -1.0, False],\n",
    " ['E58235', 3.0, 2.0, 0.0465, False],\n",
    " ['E29619', 4.0, 5.0, 0.0189, False],\n",
    " ['E18023', 3.0, 2.0, -1.0, False],\n",
    " ['E56386', 5.0, 4.0, 0.0016, False],\n",
    " ['E87379', 3.0, 7.0, 0.0126, False],\n",
    " ['E44264', 1.0, 6.0, 0.0126, False],\n",
    " ['E85955', 2.0, 4.0, 0.0153, False],\n",
    " ['E17497', 4.0, 3.0, 0.0183, False],\n",
    " ['E11391', 9.0, 7.0, 0.0239, False],\n",
    " ['E41611', 2.0, 3.0, -1.0, False],\n",
    " ['E66188', 4.0, 6.0, -1.0, False],\n",
    " ['E74052', 3.0, 7.0, 0.0053, False],\n",
    " ['E40182', 5.0, 2.0, 0.0142, False],\n",
    " ['E21161', 4.0, 6.0, -1.0, False],\n",
    " ['E59494', 5.0, 5.0, 0.1098, True],\n",
    " ['E61747', 3.0, 7.0, 0.0709, True],\n",
    " ['E42697', 5.0, 6.0, 0.0293, False],\n",
    " ['E61043', 3.0, 3.0, 0.0244, False]]"
   ]
  },
  {
   "cell_type": "code",
   "execution_count": 23,
   "metadata": {},
   "outputs": [],
   "source": [
    "assert test_patients('/data/test-patients.csv') == answers"
   ]
  },
  {
   "cell_type": "markdown",
   "metadata": {},
   "source": [
    "---\n",
    "\n",
    "## Submitting Your Work\n",
    "\n",
    "In order to submit your work, you'll need to use the `git` command line program to **add** your homework file (this file) to your local repository, **commit** your changes to your local repository, and then **push** those changes up to github.com.  From there, I'll be able to **pull** the changes down and do my grading.  I'll provide some feedback, **commit** and **push** my comments back to you.  Next week, I'll show you how to **pull** down my comments.\n",
    "\n",
    "To run through everything one last time and submit your work:\n",
    "1. Use the `Kernel` -> `Restart Kernel and Run All Cells` menu option to run everything from top to bottom and stop here.\n",
    "2. Save this note with Ctrl-S (or Cmd-S)\n",
    "2. Skip down to the last command cell (the one starting with `%%bash`) and run that cell.\n",
    "\n",
    "If anything fails along the way with this submission part of the process, let me know.  I'll help you troubleshoort."
   ]
  },
  {
   "cell_type": "code",
   "execution_count": null,
   "metadata": {},
   "outputs": [],
   "source": []
  },
  {
   "cell_type": "code",
   "execution_count": null,
   "metadata": {},
   "outputs": [],
   "source": [
    "assert False, \"DO NOT REMOVE THIS LINE\""
   ]
  },
  {
   "cell_type": "markdown",
   "metadata": {},
   "source": [
    "---"
   ]
  },
  {
   "cell_type": "code",
   "execution_count": null,
   "metadata": {},
   "outputs": [],
   "source": [
    "%%bash\n",
    "git pull\n",
    "git add midterm-2021.ipynb\n",
    "git commit -a -m \"Finally submitting the midterm!\"\n",
    "git push"
   ]
  },
  {
   "cell_type": "markdown",
   "metadata": {},
   "source": [
    "\n",
    "---\n",
    "\n",
    "If the message above says something like _Finally submitting the midterm!__ or _Everything is up to date_, then your work was submitted correctly."
   ]
  },
  {
   "cell_type": "code",
   "execution_count": null,
   "metadata": {},
   "outputs": [],
   "source": []
  }
 ],
 "metadata": {
  "kernelspec": {
   "display_name": "Python 3",
   "language": "python",
   "name": "python3"
  },
  "language_info": {
   "codemirror_mode": {
    "name": "ipython",
    "version": 3
   },
   "file_extension": ".py",
   "mimetype": "text/x-python",
   "name": "python",
   "nbconvert_exporter": "python",
   "pygments_lexer": "ipython3",
   "version": "3.6.7"
  }
 },
 "nbformat": 4,
 "nbformat_minor": 4
}
