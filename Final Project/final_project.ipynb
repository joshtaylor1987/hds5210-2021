{
 "cells": [
  {
   "cell_type": "code",
   "execution_count": null,
   "metadata": {},
   "outputs": [],
   "source": []
  },
  {
   "cell_type": "markdown",
   "metadata": {
    "nbgrader": {
     "grade": false,
     "grade_id": "cell-fc1c39d0d6f8b82a",
     "locked": true,
     "schema_version": 1,
     "solution": false
    }
   },
   "source": [
    "# Final Project\n",
    "## Rural Hospital Closures and Economic Viablility\n",
    "\n",
    "2020 was a record year for the number of rural hospital closures in the United States, topping out at 20. The purpose of this project is to explore the available data related to these closures in an attempt to identify any causal factors, and uncover any economic opportunities rural hospitals might be able to take advantage of to make them more economically viable. "
   ]
  },
  {
   "cell_type": "markdown",
   "metadata": {},
   "source": [
    "## Rural Hospital Closures from 2005 to Present\n",
    "\n",
    "Below is a bar plot that reflects the number of hospital closures since 2005 in the United States ordered by state. Interestingly, there are 13 states who have yet to experience a rural hosptial closure, namely: Delaware, Oregon, Montana, Iowa, Idaho, Conneticut, Rhode Island, Vermont, New Hampshire, Utah, Colorado, Wyoming and Hawaii."
   ]
  },
  {
   "cell_type": "code",
   "execution_count": 1,
   "metadata": {},
   "outputs": [],
   "source": [
    "import pandas as pd\n",
    "import matplotlib.pyplot as plt\n",
    "import re\n",
    "import seaborn as sns\n",
    "\n",
    "# Reading in the data of rural hospital closures\n",
    "closures = pd.read_excel('Closures-Database-for-Web.xlsx', sheet_name='Sheet1')"
   ]
  },
  {
   "cell_type": "code",
   "execution_count": 2,
   "metadata": {},
   "outputs": [
    {
     "data": {
      "text/plain": [
       "<matplotlib.axes._subplots.AxesSubplot at 0x7f3de7c19f98>"
      ]
     },
     "execution_count": 2,
     "metadata": {},
     "output_type": "execute_result"
    },
    {
     "data": {
      "image/png": "[encoded data removed]",
      "text/plain": [
       "<Figure size 1224x612 with 1 Axes>"
      ]
     },
     "metadata": {
      "needs_background": "light"
     },
     "output_type": "display_data"
    }
   ],
   "source": [
    "# Grouping closure data by state and plotting \n",
    "\n",
    "by_state = closures['State'].value_counts()\n",
    "by_state.plot.bar(title='Rural Hosptial Closures 2005 - 2020', xlabel = 'States', ylabel='Hospital Closures',color='red', rot=0, figsize=(17, 8.5))"
   ]
  },
  {
   "cell_type": "code",
   "execution_count": 3,
   "metadata": {},
   "outputs": [],
   "source": [
    "# Reading in full list of US states\n",
    "\n",
    "states = pd.read_html('https://www.stateabbreviations.us/')\n",
    "states = states[1]\n",
    "states = states.drop(states.index[0])"
   ]
  },
  {
   "cell_type": "code",
   "execution_count": 4,
   "metadata": {},
   "outputs": [],
   "source": [
    "# Creating two lists of states by postal abreviations for purposes of comparing\n",
    "\n",
    "postal = states['US States, Capitals, and Government Links.2']\n",
    "close_states = closures['State']"
   ]
  },
  {
   "cell_type": "code",
   "execution_count": 5,
   "metadata": {},
   "outputs": [
    {
     "data": {
      "text/plain": [
       "['MT', 'CO', 'UT', 'OR', 'VT', 'IA', 'HI', 'WY', 'NH', 'CT', 'ID', 'DE', 'RI']"
      ]
     },
     "execution_count": 5,
     "metadata": {},
     "output_type": "execute_result"
    }
   ],
   "source": [
    "# Comparing our two lists of states to create new list of states not contained in the hospital closures list\n",
    "\n",
    "no_close = list(set(postal).difference(close_states))\n",
    "no_close"
   ]
  },
  {
   "cell_type": "markdown",
   "metadata": {},
   "source": [
    "### States Without Closures\n",
    "\n",
    "Upon identifying the list of states who have not experienced any rural hospital closures in the last 15 years, two primary questions arose. First, of those states with no rural hospital closures, what are their associated rural populations? Second, what is the number of rural designated hospitals in each state with no rural hospital closures?"
   ]
  },
  {
   "cell_type": "code",
   "execution_count": 6,
   "metadata": {},
   "outputs": [],
   "source": [
    "# Create a dataframe for states with no rural hospital closures based on the previous retrieved list\n",
    "df_no_close = pd.DataFrame(no_close)\n",
    "df_no_close['Rural Hospital Closures'] = 'No Closures'\n",
    "df_no_close.columns = [\"Postal Code\", 'Rural Hospital Closures']"
   ]
  },
  {
   "cell_type": "code",
   "execution_count": 7,
   "metadata": {},
   "outputs": [],
   "source": [
    "# Import a postal code crosswalk to get state names\n",
    "postal_codes = pd.read_html('https://www.infoplease.com/us/postal-information/state-abbreviations-and-state-postal-codes')\n",
    "postal_codes = postal_codes[0]"
   ]
  },
  {
   "cell_type": "code",
   "execution_count": 8,
   "metadata": {},
   "outputs": [],
   "source": [
    "# Merging the dataframe of states with no closures with postal code cross walk to add state names\n",
    "statename_no_close = df_no_close.merge(postal_codes, how ='inner', left_on ='Postal Code', right_on='Postal Code')\n",
    "statename_no_close = statename_no_close.rename(columns={\"State/District\": \"State\"})"
   ]
  },
  {
   "cell_type": "code",
   "execution_count": 9,
   "metadata": {},
   "outputs": [],
   "source": [
    "# Imporat rural population density data and clean up in preparation for final merge\n",
    "ruralpop = pd.read_html('https://www.nationalpopularvote.com/rural-states-are-almost-entirely-ignored-under-current-state-state-system')\n",
    "ruralpop = ruralpop[0]\n",
    "ruralpop.columns = ruralpop.iloc[0]\n",
    "ruralpop = ruralpop.drop(ruralpop.index[0])\n",
    "ruralpop.loc[11,['State']] = ['New Hampshire']"
   ]
  },
  {
   "cell_type": "code",
   "execution_count": 10,
   "metadata": {},
   "outputs": [
    {
     "data": {
      "text/html": [
       "<div>\n",
       "<style scoped>\n",
       "    .dataframe tbody tr th:only-of-type {\n",
       "        vertical-align: middle;\n",
       "    }\n",
       "\n",
       "    .dataframe tbody tr th {\n",
       "        vertical-align: top;\n",
       "    }\n",
       "\n",
       "    .dataframe thead th {\n",
       "        text-align: right;\n",
       "    }\n",
       "</style>\n",
       "<table border=\"1\" class=\"dataframe\">\n",
       "  <thead>\n",
       "    <tr style=\"text-align: right;\">\n",
       "      <th></th>\n",
       "      <th>Postal Code</th>\n",
       "      <th>Rural Hospital Closures</th>\n",
       "      <th>State</th>\n",
       "      <th>Abbreviation</th>\n",
       "      <th>Total population</th>\n",
       "      <th>Urban-suburban population</th>\n",
       "      <th>Rural population</th>\n",
       "      <th>Rural percent</th>\n",
       "      <th>Index</th>\n",
       "    </tr>\n",
       "  </thead>\n",
       "  <tbody>\n",
       "    <tr>\n",
       "      <th>6</th>\n",
       "      <td>HI</td>\n",
       "      <td>No Closures</td>\n",
       "      <td>Hawaii</td>\n",
       "      <td>Hawaii</td>\n",
       "      <td>1360301</td>\n",
       "      <td>1250489</td>\n",
       "      <td>109812</td>\n",
       "      <td>0.08</td>\n",
       "      <td>42</td>\n",
       "    </tr>\n",
       "    <tr>\n",
       "      <th>2</th>\n",
       "      <td>UT</td>\n",
       "      <td>No Closures</td>\n",
       "      <td>Utah</td>\n",
       "      <td>Utah</td>\n",
       "      <td>2763885</td>\n",
       "      <td>2503595</td>\n",
       "      <td>260290</td>\n",
       "      <td>0.09</td>\n",
       "      <td>49</td>\n",
       "    </tr>\n",
       "    <tr>\n",
       "      <th>12</th>\n",
       "      <td>RI</td>\n",
       "      <td>No Closures</td>\n",
       "      <td>Rhode Island</td>\n",
       "      <td>R.I.</td>\n",
       "      <td>1052567</td>\n",
       "      <td>955043</td>\n",
       "      <td>97524</td>\n",
       "      <td>0.09</td>\n",
       "      <td>48</td>\n",
       "    </tr>\n",
       "    <tr>\n",
       "      <th>9</th>\n",
       "      <td>CT</td>\n",
       "      <td>No Closures</td>\n",
       "      <td>Connecticut</td>\n",
       "      <td>Conn.</td>\n",
       "      <td>3574097</td>\n",
       "      <td>3144942</td>\n",
       "      <td>429155</td>\n",
       "      <td>0.12</td>\n",
       "      <td>62</td>\n",
       "    </tr>\n",
       "    <tr>\n",
       "      <th>1</th>\n",
       "      <td>CO</td>\n",
       "      <td>No Closures</td>\n",
       "      <td>Colorado</td>\n",
       "      <td>Colo.</td>\n",
       "      <td>5029196</td>\n",
       "      <td>4332761</td>\n",
       "      <td>696435</td>\n",
       "      <td>0.14</td>\n",
       "      <td>72</td>\n",
       "    </tr>\n",
       "    <tr>\n",
       "      <th>11</th>\n",
       "      <td>DE</td>\n",
       "      <td>No Closures</td>\n",
       "      <td>Delaware</td>\n",
       "      <td>Del.</td>\n",
       "      <td>897934</td>\n",
       "      <td>747949</td>\n",
       "      <td>149985</td>\n",
       "      <td>0.17</td>\n",
       "      <td>87</td>\n",
       "    </tr>\n",
       "    <tr>\n",
       "      <th>3</th>\n",
       "      <td>OR</td>\n",
       "      <td>No Closures</td>\n",
       "      <td>Oregon</td>\n",
       "      <td>Ore.</td>\n",
       "      <td>3831074</td>\n",
       "      <td>3104382</td>\n",
       "      <td>726692</td>\n",
       "      <td>0.19</td>\n",
       "      <td>98</td>\n",
       "    </tr>\n",
       "    <tr>\n",
       "      <th>10</th>\n",
       "      <td>ID</td>\n",
       "      <td>No Closures</td>\n",
       "      <td>Idaho</td>\n",
       "      <td>Idaho</td>\n",
       "      <td>1567582</td>\n",
       "      <td>1106370</td>\n",
       "      <td>461212</td>\n",
       "      <td>0.29</td>\n",
       "      <td>153</td>\n",
       "    </tr>\n",
       "    <tr>\n",
       "      <th>7</th>\n",
       "      <td>WY</td>\n",
       "      <td>No Closures</td>\n",
       "      <td>Wyoming</td>\n",
       "      <td>Wyo.</td>\n",
       "      <td>563626</td>\n",
       "      <td>364993</td>\n",
       "      <td>198633</td>\n",
       "      <td>0.35</td>\n",
       "      <td>183</td>\n",
       "    </tr>\n",
       "    <tr>\n",
       "      <th>5</th>\n",
       "      <td>IA</td>\n",
       "      <td>No Closures</td>\n",
       "      <td>Iowa</td>\n",
       "      <td>Iowa</td>\n",
       "      <td>3046355</td>\n",
       "      <td>1950256</td>\n",
       "      <td>1096099</td>\n",
       "      <td>0.36</td>\n",
       "      <td>187</td>\n",
       "    </tr>\n",
       "    <tr>\n",
       "      <th>8</th>\n",
       "      <td>NH</td>\n",
       "      <td>No Closures</td>\n",
       "      <td>New Hampshire</td>\n",
       "      <td>N.H.</td>\n",
       "      <td>1316470</td>\n",
       "      <td>793872</td>\n",
       "      <td>522598</td>\n",
       "      <td>0.40</td>\n",
       "      <td>206</td>\n",
       "    </tr>\n",
       "    <tr>\n",
       "      <th>0</th>\n",
       "      <td>MT</td>\n",
       "      <td>No Closures</td>\n",
       "      <td>Montana</td>\n",
       "      <td>Mont.</td>\n",
       "      <td>989415</td>\n",
       "      <td>553014</td>\n",
       "      <td>436401</td>\n",
       "      <td>0.44</td>\n",
       "      <td>229</td>\n",
       "    </tr>\n",
       "    <tr>\n",
       "      <th>4</th>\n",
       "      <td>VT</td>\n",
       "      <td>No Closures</td>\n",
       "      <td>Vermont</td>\n",
       "      <td>Vt.</td>\n",
       "      <td>625741</td>\n",
       "      <td>243385</td>\n",
       "      <td>382356</td>\n",
       "      <td>0.61</td>\n",
       "      <td>317</td>\n",
       "    </tr>\n",
       "  </tbody>\n",
       "</table>\n",
       "</div>"
      ],
      "text/plain": [
       "   Postal Code Rural Hospital Closures          State Abbreviation  \\\n",
       "6           HI             No Closures         Hawaii       Hawaii   \n",
       "2           UT             No Closures           Utah         Utah   \n",
       "12          RI             No Closures   Rhode Island         R.I.   \n",
       "9           CT             No Closures    Connecticut        Conn.   \n",
       "1           CO             No Closures       Colorado        Colo.   \n",
       "11          DE             No Closures       Delaware         Del.   \n",
       "3           OR             No Closures         Oregon         Ore.   \n",
       "10          ID             No Closures          Idaho        Idaho   \n",
       "7           WY             No Closures        Wyoming         Wyo.   \n",
       "5           IA             No Closures           Iowa         Iowa   \n",
       "8           NH             No Closures  New Hampshire         N.H.   \n",
       "0           MT             No Closures        Montana        Mont.   \n",
       "4           VT             No Closures        Vermont          Vt.   \n",
       "\n",
       "   Total population Urban-suburban population Rural population  Rural percent  \\\n",
       "6           1360301                   1250489           109812           0.08   \n",
       "2           2763885                   2503595           260290           0.09   \n",
       "12          1052567                    955043            97524           0.09   \n",
       "9           3574097                   3144942           429155           0.12   \n",
       "1           5029196                   4332761           696435           0.14   \n",
       "11           897934                    747949           149985           0.17   \n",
       "3           3831074                   3104382           726692           0.19   \n",
       "10          1567582                   1106370           461212           0.29   \n",
       "7            563626                    364993           198633           0.35   \n",
       "5           3046355                   1950256          1096099           0.36   \n",
       "8           1316470                    793872           522598           0.40   \n",
       "0            989415                    553014           436401           0.44   \n",
       "4            625741                    243385           382356           0.61   \n",
       "\n",
       "   Index  \n",
       "6     42  \n",
       "2     49  \n",
       "12    48  \n",
       "9     62  \n",
       "1     72  \n",
       "11    87  \n",
       "3     98  \n",
       "10   153  \n",
       "7    183  \n",
       "5    187  \n",
       "8    206  \n",
       "0    229  \n",
       "4    317  "
      ]
     },
     "execution_count": 10,
     "metadata": {},
     "output_type": "execute_result"
    }
   ],
   "source": [
    "# Merge rural population density data with dataframe of states with no rural hospital closures\n",
    "rural_index = statename_no_close.merge(ruralpop, how ='inner', left_on ='State', right_on='State')\n",
    "\n",
    "# Convert percentage column from string to float\n",
    "rural_index['Rural percent'] = rural_index['Rural percent'].str.rstrip('%').astype('float') / 100.0\n",
    "rural_index = rural_index.sort_values(by='Rural percent')\n",
    "\n",
    "rural_index"
   ]
  },
  {
   "cell_type": "markdown",
   "metadata": {},
   "source": [
    "### Vermont vs Utah vs Texas\n",
    "\n",
    "Based on the previous table, it appears that Vermont tops the chart in terms of the percentage of its rural population, with over 60% of the state living in a rural designated area. In healthcare today, volume is very often the differntiating factor between a hospital remaining financially viable or going under. To understand more about the effects of rural populations on the success of rural hospitals I chose to look deeper into three states; Vermont, which has the highest precentage of rural populations among those states with no rural hospital closures, Utah, which has a low percentage of rural populations and no rural hospital closures, and Texas, which has the highest number of rural hospital closures of any other state. Texas has both a higher percentage of its population living in rural area than Utah and has a higher rural population overall than both Vermont and Utah combined. After reviewing the change in the rural population from 2005 to 2010, Utah saw a much greater reduction in its rural population percentage than Texas, although Texas had total rural population number reduction of about 1 million more than both Vermont and Utah combined. This information, although insightful, suggests that rural population density alone cannot fully explain the reason for rural hospital closures."
   ]
  },
  {
   "cell_type": "code",
   "execution_count": 11,
   "metadata": {},
   "outputs": [
    {
     "name": "stderr",
     "output_type": "stream",
     "text": [
      "/opt/tljh/user/lib/python3.6/site-packages/ipykernel_launcher.py:5: SettingWithCopyWarning: \n",
      "A value is trying to be set on a copy of a slice from a DataFrame.\n",
      "Try using .loc[row_indexer,col_indexer] = value instead\n",
      "\n",
      "See the caveats in the documentation: https://pandas.pydata.org/pandas-docs/stable/user_guide/indexing.html#returning-a-view-versus-a-copy\n",
      "  \"\"\"\n",
      "/opt/tljh/user/lib/python3.6/site-packages/ipykernel_launcher.py:6: SettingWithCopyWarning: \n",
      "A value is trying to be set on a copy of a slice from a DataFrame.\n",
      "Try using .loc[row_indexer,col_indexer] = value instead\n",
      "\n",
      "See the caveats in the documentation: https://pandas.pydata.org/pandas-docs/stable/user_guide/indexing.html#returning-a-view-versus-a-copy\n",
      "  \n",
      "/opt/tljh/user/lib/python3.6/site-packages/ipykernel_launcher.py:7: SettingWithCopyWarning: \n",
      "A value is trying to be set on a copy of a slice from a DataFrame.\n",
      "Try using .loc[row_indexer,col_indexer] = value instead\n",
      "\n",
      "See the caveats in the documentation: https://pandas.pydata.org/pandas-docs/stable/user_guide/indexing.html#returning-a-view-versus-a-copy\n",
      "  import sys\n",
      "/opt/tljh/user/lib/python3.6/site-packages/ipykernel_launcher.py:8: SettingWithCopyWarning: \n",
      "A value is trying to be set on a copy of a slice from a DataFrame.\n",
      "Try using .loc[row_indexer,col_indexer] = value instead\n",
      "\n",
      "See the caveats in the documentation: https://pandas.pydata.org/pandas-docs/stable/user_guide/indexing.html#returning-a-view-versus-a-copy\n",
      "  \n"
     ]
    }
   ],
   "source": [
    "# Isolating Utah, Vermont and Texas from the rural index dataframe\n",
    "utah = rural_index[rural_index['Postal Code'] == 'UT']\n",
    "vermont = rural_index[rural_index['Postal Code'] == 'VT']\n",
    "texas = ruralpop[ruralpop['State'] == 'Texas']\n",
    "texas['Rural percent'] = texas['Rural percent'].str.rstrip('%').astype('float') / 100.0\n",
    "texas['Postal Code'] = 'TX'\n",
    "texas['Rural Hospital Closures'] = by_state['TX']\n",
    "texas['Abbreviation'] = 'Tex.'\n",
    "three_state = [utah, vermont, texas]\n",
    "ut_vt_tx = pd.concat(three_state)\n",
    "ut_vt_tx = ut_vt_tx.rename(columns={\"Rural population\": \"Rural Population 2010\"})"
   ]
  },
  {
   "cell_type": "code",
   "execution_count": 12,
   "metadata": {},
   "outputs": [],
   "source": [
    "# Reading in 2005 rural population data\n",
    "ruralpop05 = pd.read_html('https://www.bts.gov/archive/publications/scheduled_intercity_transportation_and_the_us_rural_population/2010/table_07')\n",
    "ruralpop05 = ruralpop05[0]\n",
    "ruralpop05.columns = ['State', 'Total population','Total rural residents', '2005 Rural Number', '2005 Rural Percent', '2010 rural num', '2010 rural per', '3a', '3b','4a', '4b']"
   ]
  },
  {
   "cell_type": "code",
   "execution_count": 13,
   "metadata": {},
   "outputs": [
    {
     "name": "stderr",
     "output_type": "stream",
     "text": [
      "/opt/tljh/user/lib/python3.6/site-packages/ipykernel_launcher.py:6: SettingWithCopyWarning: \n",
      "A value is trying to be set on a copy of a slice from a DataFrame.\n",
      "Try using .loc[row_indexer,col_indexer] = value instead\n",
      "\n",
      "See the caveats in the documentation: https://pandas.pydata.org/pandas-docs/stable/user_guide/indexing.html#returning-a-view-versus-a-copy\n",
      "  \n",
      "/opt/tljh/user/lib/python3.6/site-packages/ipykernel_launcher.py:8: SettingWithCopyWarning: \n",
      "A value is trying to be set on a copy of a slice from a DataFrame.\n",
      "Try using .loc[row_indexer,col_indexer] = value instead\n",
      "\n",
      "See the caveats in the documentation: https://pandas.pydata.org/pandas-docs/stable/user_guide/indexing.html#returning-a-view-versus-a-copy\n",
      "  \n",
      "/opt/tljh/user/lib/python3.6/site-packages/ipykernel_launcher.py:10: SettingWithCopyWarning: \n",
      "A value is trying to be set on a copy of a slice from a DataFrame.\n",
      "Try using .loc[row_indexer,col_indexer] = value instead\n",
      "\n",
      "See the caveats in the documentation: https://pandas.pydata.org/pandas-docs/stable/user_guide/indexing.html#returning-a-view-versus-a-copy\n",
      "  # Remove the CWD from sys.path while we load stuff.\n"
     ]
    }
   ],
   "source": [
    "# Isolating 2005 rural population data and merging the two dataframes\n",
    "options = ['Utah', 'Vermont', 'Texas'] \n",
    "rslt_df = ruralpop05[ruralpop05['State'].isin(options)]\n",
    "\n",
    "pd.set_option('display.float_format', '{:.2f}'.format)\n",
    "rslt_df['2005 Rural Percent'] = rslt_df['2005 Rural Percent'].astype('float') / 100.0\n",
    "rslt_df['2005 Rural Number'].astype(int)\n",
    "rslt_df['Rural Population 2005'] = rslt_df['2005 Rural Number'].astype(float) / rslt_df['2005 Rural Percent']\n",
    "rslt_df['Rural Population 2005'].astype(int)\n",
    "rslt_df['Rural Population 2005'] = rslt_df['Rural Population 2005'].apply(lambda x: round(x, 0))\n",
    "newcolumns = ['State', 'Rural Population 2005']\n",
    "rslt_df = rslt_df[newcolumns]\n",
    "ut_vt_tx = ut_vt_tx.merge(rslt_df, how ='inner', left_on ='State', right_on='State')"
   ]
  },
  {
   "cell_type": "code",
   "execution_count": 14,
   "metadata": {},
   "outputs": [
    {
     "data": {
      "text/html": [
       "<div>\n",
       "<style scoped>\n",
       "    .dataframe tbody tr th:only-of-type {\n",
       "        vertical-align: middle;\n",
       "    }\n",
       "\n",
       "    .dataframe tbody tr th {\n",
       "        vertical-align: top;\n",
       "    }\n",
       "\n",
       "    .dataframe thead th {\n",
       "        text-align: right;\n",
       "    }\n",
       "</style>\n",
       "<table border=\"1\" class=\"dataframe\">\n",
       "  <thead>\n",
       "    <tr style=\"text-align: right;\">\n",
       "      <th></th>\n",
       "      <th>Postal Code</th>\n",
       "      <th>Rural Hospital Closures</th>\n",
       "      <th>State</th>\n",
       "      <th>Abbreviation</th>\n",
       "      <th>Total population</th>\n",
       "      <th>Urban-suburban population</th>\n",
       "      <th>Rural Population 2010</th>\n",
       "      <th>Rural percent</th>\n",
       "      <th>Index</th>\n",
       "      <th>Rural Population 2005</th>\n",
       "      <th>Rural population Difference</th>\n",
       "      <th>Rural population Delta</th>\n",
       "    </tr>\n",
       "  </thead>\n",
       "  <tbody>\n",
       "    <tr>\n",
       "      <th>0</th>\n",
       "      <td>UT</td>\n",
       "      <td>No Closures</td>\n",
       "      <td>Utah</td>\n",
       "      <td>Utah</td>\n",
       "      <td>2763885</td>\n",
       "      <td>2503595</td>\n",
       "      <td>260290</td>\n",
       "      <td>0.09</td>\n",
       "      <td>49</td>\n",
       "      <td>512074.00</td>\n",
       "      <td>-251784.00</td>\n",
       "      <td>-0.49</td>\n",
       "    </tr>\n",
       "    <tr>\n",
       "      <th>1</th>\n",
       "      <td>VT</td>\n",
       "      <td>No Closures</td>\n",
       "      <td>Vermont</td>\n",
       "      <td>Vt.</td>\n",
       "      <td>625741</td>\n",
       "      <td>243385</td>\n",
       "      <td>382356</td>\n",
       "      <td>0.61</td>\n",
       "      <td>317</td>\n",
       "      <td>447925.00</td>\n",
       "      <td>-65569.00</td>\n",
       "      <td>-0.15</td>\n",
       "    </tr>\n",
       "    <tr>\n",
       "      <th>2</th>\n",
       "      <td>TX</td>\n",
       "      <td>24</td>\n",
       "      <td>Texas</td>\n",
       "      <td>Tex.</td>\n",
       "      <td>25145561</td>\n",
       "      <td>21298039</td>\n",
       "      <td>3847522</td>\n",
       "      <td>0.15</td>\n",
       "      <td>79</td>\n",
       "      <td>5426199.00</td>\n",
       "      <td>-1578677.00</td>\n",
       "      <td>-0.29</td>\n",
       "    </tr>\n",
       "  </tbody>\n",
       "</table>\n",
       "</div>"
      ],
      "text/plain": [
       "  Postal Code Rural Hospital Closures    State Abbreviation Total population  \\\n",
       "0          UT             No Closures     Utah         Utah          2763885   \n",
       "1          VT             No Closures  Vermont          Vt.           625741   \n",
       "2          TX                      24    Texas         Tex.         25145561   \n",
       "\n",
       "  Urban-suburban population Rural Population 2010  Rural percent Index  \\\n",
       "0                   2503595                260290           0.09    49   \n",
       "1                    243385                382356           0.61   317   \n",
       "2                  21298039               3847522           0.15    79   \n",
       "\n",
       "   Rural Population 2005  Rural population Difference  Rural population Delta  \n",
       "0              512074.00                   -251784.00                   -0.49  \n",
       "1              447925.00                    -65569.00                   -0.15  \n",
       "2             5426199.00                  -1578677.00                   -0.29  "
      ]
     },
     "execution_count": 14,
     "metadata": {},
     "output_type": "execute_result"
    }
   ],
   "source": [
    "# Adding population variance columns\n",
    "ut_vt_tx['Rural population Difference'] = ut_vt_tx['Rural Population 2010'].astype(int) - ut_vt_tx['Rural Population 2005']\n",
    "ut_vt_tx['Rural population Delta'] = ut_vt_tx['Rural population Difference'].astype(int) / ut_vt_tx['Rural Population 2005']\n",
    "ut_vt_tx"
   ]
  },
  {
   "cell_type": "code",
   "execution_count": 15,
   "metadata": {},
   "outputs": [],
   "source": [
    "# Modifying ut_vt_tx dataframe for plotting\n",
    "by_state = ut_vt_tx.loc[:, ut_vt_tx.columns.intersection(['State','Rural Population 2010', 'Rural Population 2005'])]\n",
    "by_state[['Rural Population 2010', 'Rural Population 2005']] = by_state[['Rural Population 2010', 'Rural Population 2005']].apply(pd.to_numeric)\n",
    "by_state = by_state.set_index('State')"
   ]
  },
  {
   "cell_type": "code",
   "execution_count": 16,
   "metadata": {},
   "outputs": [
    {
     "data": {
      "image/png": "[encoded data removed]",
      "text/plain": [
       "<Figure size 864x720 with 1 Axes>"
      ]
     },
     "metadata": {
      "needs_background": "light"
     },
     "output_type": "display_data"
    }
   ],
   "source": [
    "# Create stacked bar graph to review rural population changes overtime, code modified from https://towardsdatascience.com/stacked-bar-charts-with-pythons-matplotlib-f4020e4eb4a7\n",
    "fields = ['Rural Population 2010','Rural Population 2005']\n",
    "colors = ['#1D2F6F', '#8390FA']\n",
    "labels = ['Rural Population 2010', 'Rural Population 2005']# figure and axis\n",
    "fig, ax = plt.subplots(1, figsize=(12, 10))# plot bars\n",
    "left = len(by_state) * [0]\n",
    "for idx, name in enumerate(fields):\n",
    "    plt.barh(by_state.index, by_state[name], left = left, color=colors[idx])\n",
    "    left = left + by_state[name]# title, legend, labels\n",
    "plt.title('Rural Population Change in Texas Vermont and Utah\\n', loc='left')\n",
    "plt.legend(labels, bbox_to_anchor=([0.55, 1, 0, 0]), ncol=4, frameon=False)\n",
    "plt.xlabel('Rural Population')# remove spines\n",
    "ax.spines['right'].set_visible(False)\n",
    "ax.spines['left'].set_visible(False)\n",
    "ax.spines['top'].set_visible(False)\n",
    "ax.spines['bottom'].set_visible(False)# adjust limits and draw grid lines\n",
    "plt.ylim(-0.5, ax.get_yticks()[-1] + 0.5)\n",
    "ax.set_axisbelow(True)\n",
    "ax.xaxis.grid(color='gray', linestyle='dashed')\n",
    "plt.show()"
   ]
  },
  {
   "cell_type": "markdown",
   "metadata": {},
   "source": [
    "### Hospital Charge Masters\n",
    "\n",
    "To get a final glimpse into the dynamics of rural healthcare, and rural hospital closures in these three states, I selected 2 critical access hospitals from each state and explored the charge masters of each. More specifically I searched for emergency department levels charges for comparrison to see if there was anything to be understood."
   ]
  },
  {
   "cell_type": "code",
   "execution_count": 17,
   "metadata": {},
   "outputs": [],
   "source": [
    "# Read in all the selected hospital chargemaster files and convert to dataframe\n",
    "# Compile dataframes into a list\n",
    "clay_tx = pd.read_csv('Clay County Hospital.csv')\n",
    "mitchel_tx = pd.read_csv('Mitchel County Hospital TX.csv')\n",
    "central_ut = pd.read_excel('Central Valley Medical Center UT.xlsx', sheet_name='File to Post')\n",
    "moab_ut = pd.read_excel('Moab Regional Hospital UT.xlsx', sheet_name='Current Price List')\n",
    "gifford_vt = pd.read_excel('Gifford Medical Center VT.xlsx', sheet_name='Sheet1', skiprows=5)\n",
    "porter_vt = pd.read_excel('Porter Hospital VT.xlsx', sheet_name='Standard Charges', skiprows=19)\n",
    "hospital_sample = [clay_tx, mitchel_tx, central_ut, moab_ut, gifford_vt, porter_vt]"
   ]
  },
  {
   "cell_type": "code",
   "execution_count": 18,
   "metadata": {},
   "outputs": [],
   "source": [
    "# Add identifying columns to each dataframe to better identify data when combining\n",
    "clay_tx['Hospital'] = 'Clay County Hospital'\n",
    "clay_tx['State'] = 'Texas'\n",
    "\n",
    "mitchel_tx['Hospital'] = 'Mitchel County Hospital'\n",
    "mitchel_tx['State'] = 'Texas'\n",
    "\n",
    "central_ut['Hospital'] = 'Central Valley Medical Center'\n",
    "central_ut['State'] = 'Utah'\n",
    "\n",
    "moab_ut['Hospital'] = 'Moab Regional Hospital'\n",
    "moab_ut['State'] = 'Utah'\n",
    "\n",
    "gifford_vt['Hospital'] = 'Gifford Medical Center'\n",
    "gifford_vt['State'] = 'Vermont'\n",
    "\n",
    "porter_vt['Hospital'] = 'Porter Hospital'\n",
    "porter_vt['State'] = 'Vermont'"
   ]
  },
  {
   "cell_type": "code",
   "execution_count": 19,
   "metadata": {},
   "outputs": [],
   "source": [
    "# Create function to identify service description column in each dataframe\n",
    "def service_desc(hospital):\n",
    "    desc_col = []\n",
    "    charge_col = []\n",
    "    for c in hospital.columns:\n",
    "        if 'description' in c.lower() and 'cpt' not in c.lower():\n",
    "            desc_col.append(c)\n",
    "            \n",
    "        if 'gross' in c.lower():\n",
    "            charge_col.append(c)\n",
    "            break\n",
    "        elif 'price' in c.lower():\n",
    "            charge_col.append(c)\n",
    "            break\n",
    "        elif 'rate' in c.lower() and 'commercial' not in c.lower():\n",
    "            charge_col.append(c)\n",
    "            break    \n",
    "\n",
    "    return desc_col[0]"
   ]
  },
  {
   "cell_type": "code",
   "execution_count": 20,
   "metadata": {},
   "outputs": [],
   "source": [
    "# Create function to identify gross charge column in each dataframe\n",
    "def charge_desc(hospital):    \n",
    "    charge_col = []\n",
    "    for c in hospital.columns: \n",
    "        if 'gross' in c.lower():\n",
    "            charge_col.append(c)\n",
    "            break\n",
    "        elif 'price' in c.lower():\n",
    "            charge_col.append(c)\n",
    "            break\n",
    "        elif 'rate' in c.lower() and 'commercial' not in c.lower():\n",
    "            charge_col.append(c)\n",
    "            break\n",
    "            \n",
    "    return charge_col[0]"
   ]
  },
  {
   "cell_type": "code",
   "execution_count": 21,
   "metadata": {},
   "outputs": [],
   "source": [
    "# Create function to convert roman numerals to integers, code modified from https://www.w3resource.com/python-exercises/class-exercises/python-class-exercise-2.php\n",
    "class py_solution:\n",
    "    def roman_to_int(self, s):\n",
    "        rom_val = {'I': 1, 'V': 5, 'X': 10, 'L': 50, 'C': 100, 'D': 500, 'M': 1000}\n",
    "        int_val = 0\n",
    "        for i in range(len(s)):\n",
    "            if i > 0 and rom_val[s[i]] > rom_val[s[i - 1]]:\n",
    "                int_val += rom_val[s[i]] - 2 * rom_val[s[i - 1]]\n",
    "            else:\n",
    "                int_val += rom_val[s[i]]\n",
    "        return int_val"
   ]
  },
  {
   "cell_type": "code",
   "execution_count": 22,
   "metadata": {},
   "outputs": [],
   "source": [
    "# Create function to iterate through list of dataframes to extract all ER Level charges then unify and concatenate data into a single dataframe\n",
    "def ed_charges_df(hospitals):\n",
    "    \n",
    "    frames = []\n",
    "    for hospital in hospitals:\n",
    "        df = hospital[hospital[service_desc(hospital)].str.contains('(?i)ed level|e d level|er level|e/r level|er class|er service|emergent level', na=False)]\n",
    "        df1 = df.loc[:, df.columns.intersection([service_desc(hospital),charge_desc(hospital), 'Hospital', 'State'])]\n",
    "        df1.columns = ['Charge Desc', 'Gross Charge', 'Hospital', 'State']\n",
    "        \n",
    "        for line in df1['Charge Desc']:\n",
    "            if line[-1] == \"I\":\n",
    "                roman = line.split()\n",
    "                roman = list(map(lambda st: str.replace(st, roman[-1], str(py_solution().roman_to_int(roman[-1]))), roman))\n",
    "#                 line[-1] = py_solution().roman_to_int(line[-1])\n",
    "                roman = ' '.join(roman)\n",
    "                df1.loc[df1[df1['Charge Desc']==line].index.values,['Charge Desc']] = roman\n",
    "            elif line[-1] == \"V\":\n",
    "                roman = line.split()\n",
    "                roman = list(map(lambda st: str.replace(st, roman[-1], str(py_solution().roman_to_int(roman[-1]))), roman))\n",
    "#                 line[-1] = py_solution().roman_to_int(line[-1])\n",
    "                roman = ' '.join(roman)\n",
    "                df1.loc[df1[df1['Charge Desc']==line].index.values,['Charge Desc']] = roman\n",
    "    \n",
    "        df1.loc[df1['Charge Desc'].str.contains('(?i)level 1| class 1'), 'Charge Desc'] = 'ER Level 1'\n",
    "        df1.loc[df1['Charge Desc'].str.contains('(?i)level 2| class 2'), 'Charge Desc'] = 'ER Level 2'\n",
    "        df1.loc[df1['Charge Desc'].str.contains('(?i)level 3| class 3'), 'Charge Desc'] = 'ER Level 3'\n",
    "        df1.loc[df1['Charge Desc'].str.contains('(?i)level 4| class 4'), 'Charge Desc'] = 'ER Level 4'\n",
    "        df1.loc[df1['Charge Desc'].str.contains('(?i)level 5| class 5'), 'Charge Desc'] = 'ER Level 5'\n",
    "        df1.loc[df1['Charge Desc'].str.contains('(?i)le5el 5'), 'Charge Desc'] = 'ER Level 5'\n",
    "        df1[[\"Gross Charge\"]] = df1[[\"Gross Charge\"]].apply(pd.to_numeric)\n",
    "        \n",
    "        \n",
    "        frames.append(df1)\n",
    "        \n",
    "    result = pd.concat(frames)\n",
    "    \n",
    "    return result"
   ]
  },
  {
   "cell_type": "code",
   "execution_count": 23,
   "metadata": {},
   "outputs": [],
   "source": [
    "ed_levels= ed_charges_df(hospital_sample)\n",
    "# Clean up stray lines of data imported from ed_level function and sort\n",
    "ed_levels = ed_levels.drop([1167, 2230, 2231, 2582, 2584, 2586, 2588, 2590])\n",
    "ed_levels = ed_levels.sort_values(['State','Hospital','Charge Desc'])"
   ]
  },
  {
   "cell_type": "code",
   "execution_count": 24,
   "metadata": {},
   "outputs": [
    {
     "data": {
      "text/html": [
       "<div>\n",
       "<style scoped>\n",
       "    .dataframe tbody tr th:only-of-type {\n",
       "        vertical-align: middle;\n",
       "    }\n",
       "\n",
       "    .dataframe tbody tr th {\n",
       "        vertical-align: top;\n",
       "    }\n",
       "\n",
       "    .dataframe thead th {\n",
       "        text-align: right;\n",
       "    }\n",
       "</style>\n",
       "<table border=\"1\" class=\"dataframe\">\n",
       "  <thead>\n",
       "    <tr style=\"text-align: right;\">\n",
       "      <th>Hospital</th>\n",
       "      <th>Moab Regional Hospital</th>\n",
       "      <th>Central Valley Medical Center</th>\n",
       "      <th>Gifford Medical Center</th>\n",
       "      <th>Porter Hospital</th>\n",
       "      <th>Clay County Hospital</th>\n",
       "      <th>Mitchel County Hospital</th>\n",
       "    </tr>\n",
       "    <tr>\n",
       "      <th>Charge Desc</th>\n",
       "      <th></th>\n",
       "      <th></th>\n",
       "      <th></th>\n",
       "      <th></th>\n",
       "      <th></th>\n",
       "      <th></th>\n",
       "    </tr>\n",
       "  </thead>\n",
       "  <tbody>\n",
       "    <tr>\n",
       "      <th>ER Level 1</th>\n",
       "      <td>270.00</td>\n",
       "      <td>183.80</td>\n",
       "      <td>273.00</td>\n",
       "      <td>177.00</td>\n",
       "      <td>164.00</td>\n",
       "      <td>156.00</td>\n",
       "    </tr>\n",
       "    <tr>\n",
       "      <th>ER Level 2</th>\n",
       "      <td>406.00</td>\n",
       "      <td>262.50</td>\n",
       "      <td>397.00</td>\n",
       "      <td>226.00</td>\n",
       "      <td>327.00</td>\n",
       "      <td>215.00</td>\n",
       "    </tr>\n",
       "    <tr>\n",
       "      <th>ER Level 3</th>\n",
       "      <td>735.00</td>\n",
       "      <td>404.30</td>\n",
       "      <td>655.00</td>\n",
       "      <td>378.00</td>\n",
       "      <td>709.00</td>\n",
       "      <td>274.00</td>\n",
       "    </tr>\n",
       "    <tr>\n",
       "      <th>ER Level 4</th>\n",
       "      <td>1208.00</td>\n",
       "      <td>650.00</td>\n",
       "      <td>995.00</td>\n",
       "      <td>782.00</td>\n",
       "      <td>1090.00</td>\n",
       "      <td>470.00</td>\n",
       "    </tr>\n",
       "    <tr>\n",
       "      <th>ER Level 5</th>\n",
       "      <td>2086.00</td>\n",
       "      <td>1000.00</td>\n",
       "      <td>1439.00</td>\n",
       "      <td>1181.00</td>\n",
       "      <td>1417.00</td>\n",
       "      <td>780.00</td>\n",
       "    </tr>\n",
       "  </tbody>\n",
       "</table>\n",
       "</div>"
      ],
      "text/plain": [
       "Hospital     Moab Regional Hospital  Central Valley Medical Center  \\\n",
       "Charge Desc                                                          \n",
       "ER Level 1                   270.00                         183.80   \n",
       "ER Level 2                   406.00                         262.50   \n",
       "ER Level 3                   735.00                         404.30   \n",
       "ER Level 4                  1208.00                         650.00   \n",
       "ER Level 5                  2086.00                        1000.00   \n",
       "\n",
       "Hospital     Gifford Medical Center  Porter Hospital  Clay County Hospital  \\\n",
       "Charge Desc                                                                  \n",
       "ER Level 1                   273.00           177.00                164.00   \n",
       "ER Level 2                   397.00           226.00                327.00   \n",
       "ER Level 3                   655.00           378.00                709.00   \n",
       "ER Level 4                   995.00           782.00               1090.00   \n",
       "ER Level 5                  1439.00          1181.00               1417.00   \n",
       "\n",
       "Hospital     Mitchel County Hospital  \n",
       "Charge Desc                           \n",
       "ER Level 1                    156.00  \n",
       "ER Level 2                    215.00  \n",
       "ER Level 3                    274.00  \n",
       "ER Level 4                    470.00  \n",
       "ER Level 5                    780.00  "
      ]
     },
     "execution_count": 24,
     "metadata": {},
     "output_type": "execute_result"
    }
   ],
   "source": [
    "# Pivot data in preparation for plotting\n",
    "by_hospital = pd.pivot_table(ed_levels,\n",
    "    values='Gross Charge',\n",
    "    columns='Hospital',\n",
    "    index='Charge Desc',\n",
    "    aggfunc='sum')\n",
    "by_hospital = by_hospital.reindex(['Moab Regional Hospital', 'Central Valley Medical Center', 'Gifford Medical Center', 'Porter Hospital', 'Clay County Hospital', 'Mitchel County Hospital'], axis=1)\n",
    "by_hospital"
   ]
  },
  {
   "cell_type": "code",
   "execution_count": 25,
   "metadata": {},
   "outputs": [
    {
     "data": {
      "text/plain": [
       "Text(0.5, 1.0, 'ER Level Charges Analysis')"
      ]
     },
     "execution_count": 25,
     "metadata": {},
     "output_type": "execute_result"
    },
    {
     "data": {
      "image/png": "[encoded data removed]",
      "text/plain": [
       "<Figure size 1224x612 with 1 Axes>"
      ]
     },
     "metadata": {
      "needs_background": "light"
     },
     "output_type": "display_data"
    }
   ],
   "source": [
    "# Plot ER Levels across hospitals\n",
    "from matplotlib import pyplot\n",
    "a4_dims = (17, 8.5)\n",
    "fig, ax = pyplot.subplots(figsize=a4_dims)\n",
    "sns.lineplot(ax=ax,data=by_hospital).set_title('ER Level Charges Analysis')"
   ]
  },
  {
   "cell_type": "markdown",
   "metadata": {},
   "source": [
    "---\n",
    "\n",
    "---"
   ]
  },
  {
   "cell_type": "markdown",
   "metadata": {},
   "source": [
    "---\n",
    "\n",
    "## Conclusions\n",
    "\n",
    "Healthcare finance is a complex discipline with multiple factors that impact success, and the success or faliure of rural healthcare providers is equally complex. A much more thorough examination of both successful and failed rural hospitals in conjuction with state population changes and state healthcare reimbursement policies would be needed to make any sure conclusions about why some rural hospitals fail. From this brief analysis it is clear that population changes and charge rates are connected to the success or failure of rural hospitals."
   ]
  },
  {
   "cell_type": "code",
   "execution_count": 26,
   "metadata": {},
   "outputs": [
    {
     "name": "stdout",
     "output_type": "stream",
     "text": [
      "Already up to date.\n",
      "[main fe2791f] Submitting Final Project\n",
      " 3 files changed, 1391 insertions(+), 141 deletions(-)\n",
      " create mode 100644 Final Project/final_project.ipynb\n"
     ]
    },
    {
     "name": "stderr",
     "output_type": "stream",
     "text": [
      "To github.com:joshtaylor1987/hds5210-2021.git\n",
      "   917a917..fe2791f  main -> main\n"
     ]
    }
   ],
   "source": [
    "%%bash\n",
    "git pull\n",
    "git add final_project.ipynb\n",
    "git commit -a -m \"Submitting Final Project\"\n",
    "git push"
   ]
  }
 ],
 "metadata": {
  "kernelspec": {
   "display_name": "Python 3",
   "language": "python",
   "name": "python3"
  },
  "language_info": {
   "codemirror_mode": {
    "name": "ipython",
    "version": 3
   },
   "file_extension": ".py",
   "mimetype": "text/x-python",
   "name": "python",
   "nbconvert_exporter": "python",
   "pygments_lexer": "ipython3",
   "version": "3.6.7"
  }
 },
 "nbformat": 4,
 "nbformat_minor": 4
}
